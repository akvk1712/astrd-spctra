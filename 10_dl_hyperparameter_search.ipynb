{
  "nbformat": 4,
  "nbformat_minor": 0,
  "metadata": {
    "colab": {
      "provenance": []
    },
    "kernelspec": {
      "name": "python3",
      "display_name": "Python 3"
    },
    "language_info": {
      "name": "python"
    }
  },
  "cells": [
    {
      "cell_type": "code",
      "execution_count": null,
      "metadata": {
        "colab": {
          "base_uri": "https://localhost:8080/"
        },
        "id": "zmP25QcmcTJM",
        "outputId": "cdbd017e-497f-4231-bfee-97a8c16d09af"
      },
      "outputs": [
        {
          "output_type": "stream",
          "name": "stdout",
          "text": [
            "Collecting keras-tuner\n",
            "  Downloading keras_tuner-1.4.0-py3-none-any.whl (126 kB)\n",
            "\u001b[?25l     \u001b[90m━━━━━━━━━━━━━━━━━━━━━━━━━━━━━━━━━━━━━━━━\u001b[0m \u001b[32m0.0/126.8 kB\u001b[0m \u001b[31m?\u001b[0m eta \u001b[36m-:--:--\u001b[0m\r\u001b[2K     \u001b[90m━━━━━━━━━━━━━━━━━━━━━━━━━━━━━━━━━━━━━━━\u001b[0m \u001b[32m126.8/126.8 kB\u001b[0m \u001b[31m4.6 MB/s\u001b[0m eta \u001b[36m0:00:00\u001b[0m\n",
            "\u001b[?25hCollecting keras-core (from keras-tuner)\n",
            "  Downloading keras_core-0.1.7-py3-none-any.whl (950 kB)\n",
            "\u001b[?25l     \u001b[90m━━━━━━━━━━━━━━━━━━━━━━━━━━━━━━━━━━━━━━━━\u001b[0m \u001b[32m0.0/950.8 kB\u001b[0m \u001b[31m?\u001b[0m eta \u001b[36m-:--:--\u001b[0m\r\u001b[2K     \u001b[90m━━━━━━━━━━━━━━━━━━━━━━━━━━━━━━━━━━━━━━\u001b[0m \u001b[32m950.8/950.8 kB\u001b[0m \u001b[31m41.3 MB/s\u001b[0m eta \u001b[36m0:00:00\u001b[0m\n",
            "\u001b[?25hRequirement already satisfied: packaging in /usr/local/lib/python3.10/dist-packages (from keras-tuner) (23.1)\n",
            "Requirement already satisfied: requests in /usr/local/lib/python3.10/dist-packages (from keras-tuner) (2.31.0)\n",
            "Collecting kt-legacy (from keras-tuner)\n",
            "  Downloading kt_legacy-1.0.5-py3-none-any.whl (9.6 kB)\n",
            "Requirement already satisfied: absl-py in /usr/local/lib/python3.10/dist-packages (from keras-core->keras-tuner) (1.4.0)\n",
            "Requirement already satisfied: numpy in /usr/local/lib/python3.10/dist-packages (from keras-core->keras-tuner) (1.23.5)\n",
            "Requirement already satisfied: rich in /usr/local/lib/python3.10/dist-packages (from keras-core->keras-tuner) (13.5.2)\n",
            "Collecting namex (from keras-core->keras-tuner)\n",
            "  Downloading namex-0.0.7-py3-none-any.whl (5.8 kB)\n",
            "Requirement already satisfied: h5py in /usr/local/lib/python3.10/dist-packages (from keras-core->keras-tuner) (3.9.0)\n",
            "Requirement already satisfied: dm-tree in /usr/local/lib/python3.10/dist-packages (from keras-core->keras-tuner) (0.1.8)\n",
            "Requirement already satisfied: charset-normalizer<4,>=2 in /usr/local/lib/python3.10/dist-packages (from requests->keras-tuner) (3.2.0)\n",
            "Requirement already satisfied: idna<4,>=2.5 in /usr/local/lib/python3.10/dist-packages (from requests->keras-tuner) (3.4)\n",
            "Requirement already satisfied: urllib3<3,>=1.21.1 in /usr/local/lib/python3.10/dist-packages (from requests->keras-tuner) (2.0.4)\n",
            "Requirement already satisfied: certifi>=2017.4.17 in /usr/local/lib/python3.10/dist-packages (from requests->keras-tuner) (2023.7.22)\n",
            "Requirement already satisfied: markdown-it-py>=2.2.0 in /usr/local/lib/python3.10/dist-packages (from rich->keras-core->keras-tuner) (3.0.0)\n",
            "Requirement already satisfied: pygments<3.0.0,>=2.13.0 in /usr/local/lib/python3.10/dist-packages (from rich->keras-core->keras-tuner) (2.16.1)\n",
            "Requirement already satisfied: mdurl~=0.1 in /usr/local/lib/python3.10/dist-packages (from markdown-it-py>=2.2.0->rich->keras-core->keras-tuner) (0.1.2)\n",
            "Installing collected packages: namex, kt-legacy, keras-core, keras-tuner\n",
            "Successfully installed keras-core-0.1.7 keras-tuner-1.4.0 kt-legacy-1.0.5 namex-0.0.7\n"
          ]
        }
      ],
      "source": [
        "%load_ext tensorboard\n",
        "!pip install keras-tuner"
      ]
    },
    {
      "cell_type": "code",
      "source": [
        "import os\n",
        "\n",
        "# Import installed libraries\n",
        "from matplotlib import pyplot as plt\n",
        "import numpy as np\n",
        "import pandas as pd\n",
        "\n",
        "import sklearn\n",
        "from sklearn import preprocessing\n",
        "from sklearn.metrics import ConfusionMatrixDisplay, confusion_matrix\n",
        "from sklearn.model_selection import StratifiedShuffleSplit\n",
        "\n",
        "import tensorflow.keras as keras"
      ],
      "metadata": {
        "id": "j8aAcRc4cgwg"
      },
      "execution_count": null,
      "outputs": []
    },
    {
      "cell_type": "code",
      "source": [
        "try:\n",
        "    from google.colab import drive\n",
        "    drive.mount('/gdrive')\n",
        "    core_path = \"/path name/\"\n",
        "except ModuleNotFoundError:\n",
        "    core_path = \"\"\n",
        "\n",
        "# Load the level 2 asteroid data\n",
        "asteroids_df = pd.read_pickle(os.path.join(core_path, \"data/lvl2/\", \"asteroids.pkl\"))\n",
        "\n",
        "# Allocate the spectra to one array and the classes to another one\n",
        "asteroids_X = np.array([k[\"Reflectance_norm550nm\"].tolist() for k in asteroids_df[\"SpectrumDF\"]])\n",
        "asteroids_y = np.array(asteroids_df[\"Main_Group\"].to_list())\n",
        "\n",
        "asteroids_X = np.expand_dims(asteroids_X, axis=2)"
      ],
      "metadata": {
        "colab": {
          "base_uri": "https://localhost:8080/"
        },
        "id": "a1gr-U1NcE47",
        "outputId": "7a327ebc-279c-41fa-84f3-3f0fd91c9bd2"
      },
      "execution_count": null,
      "outputs": [
        {
          "output_type": "stream",
          "name": "stdout",
          "text": [
            "Drive already mounted at /gdrive; to attempt to forcibly remount, call drive.mount(\"/gdrive\", force_remount=True).\n"
          ]
        }
      ]
    },
    {
      "cell_type": "code",
      "source": [
        "label_encoder = preprocessing.OneHotEncoder(sparse=True)\n",
        "asteroids_oh_y = label_encoder.fit_transform(asteroids_y.reshape(-1,1)).toarray()\n",
        "\n",
        "# OK how are things encoded?\n",
        "oh_init = [1, 0, 0, 0]\n",
        "for n in range(4):\n",
        "    oh_class = oh_init[-n:] + oh_init[:-n]\n",
        "    org_class = label_encoder.inverse_transform([oh_class])\n",
        "    print(f\"One-Hot-Vector {oh_class} corresponds to the Main Group: {org_class[0][0]}\")\n",
        "\n",
        "# In this example we create a single test-training split with a ratio of 0.8 / 0.2\n",
        "sss = StratifiedShuffleSplit(n_splits=1, test_size=0.2)\n",
        "\n",
        "# Create a simple, single train / test split\n",
        "for train_index, test_index in sss.split(asteroids_X, asteroids_y):\n",
        "\n",
        "    X_train, X_test = asteroids_X[train_index], asteroids_X[test_index]\n",
        "    y_train, y_test = asteroids_oh_y[train_index], asteroids_oh_y[test_index]"
      ],
      "metadata": {
        "colab": {
          "base_uri": "https://localhost:8080/"
        },
        "id": "6oHj3FYkcYmW",
        "outputId": "bc32ff10-f3c1-4be1-8220-d3b380056faf"
      },
      "execution_count": null,
      "outputs": [
        {
          "output_type": "stream",
          "name": "stdout",
          "text": [
            "One-Hot-Vector [1, 0, 0, 0] corresponds to the Main Group: C\n",
            "One-Hot-Vector [0, 1, 0, 0] corresponds to the Main Group: Other\n",
            "One-Hot-Vector [0, 0, 1, 0] corresponds to the Main Group: S\n",
            "One-Hot-Vector [0, 0, 0, 1] corresponds to the Main Group: X\n"
          ]
        },
        {
          "output_type": "stream",
          "name": "stderr",
          "text": [
            "/usr/local/lib/python3.10/dist-packages/sklearn/preprocessing/_encoders.py:868: FutureWarning: `sparse` was renamed to `sparse_output` in version 1.2 and will be removed in 1.4. `sparse_output` is ignored unless you leave `sparse` to its default value.\n",
            "  warnings.warn(\n"
          ]
        }
      ]
    },
    {
      "cell_type": "code",
      "source": [
        "from sklearn.utils.class_weight import compute_sample_weight\n",
        "sample_weight = compute_sample_weight(\"balanced\", y=y_train)"
      ],
      "metadata": {
        "id": "ALZhu1Evcb-R"
      },
      "execution_count": null,
      "outputs": []
    },
    {
      "cell_type": "code",
      "source": [
        "import keras_tuner as kt\n",
        "\n",
        "# Early Stopping callback\n",
        "es_callback = keras.callbacks.EarlyStopping(monitor='val_loss', patience=10)\n",
        "\n",
        "# Get the number of inputs\n",
        "n_inputs = asteroids_X.shape[1]\n",
        "\n",
        "# We move our normalizer layers outside of the function\n",
        "normalizer = keras.layers.Normalization(axis=1)\n",
        "normalizer.adapt(X_train)\n",
        "\n",
        "def create_model(hp):\n",
        "\n",
        "    # Create now a simple Dense based network\n",
        "    input_layer = keras.Input(shape=(n_inputs, 1))\n",
        "\n",
        "    norm_layer = normalizer(input_layer)\n",
        "\n",
        "\n",
        "    hidden_layer = keras.layers.Conv1D(filters=hp.Int(\"1st_filters\",\n",
        "                                                      min_value=8,\n",
        "                                                      max_value=32,\n",
        "                                                      step=8),\n",
        "                                       activation=\"relu\",\n",
        "                                       kernel_size=hp.Int(\"1st_kernel_size\",\n",
        "                                                          min_value=3,\n",
        "                                                          max_value=7,\n",
        "                                                          step=1))(norm_layer)\n",
        "    hidden_layer = keras.layers.MaxPooling1D(pool_size=2)(hidden_layer)\n",
        "\n",
        "    hidden_layer = keras.layers.Conv1D(filters=hp.Int(\"2nd_filters\",\n",
        "                                                      min_value=16,\n",
        "                                                      max_value=128,\n",
        "                                                      step=16),\n",
        "                                       activation=\"relu\",\n",
        "                                       kernel_size=hp.Int(\"2nd_kernel_size\",\n",
        "                                                          min_value=3,\n",
        "                                                          max_value=7,\n",
        "                                                          step=1))(norm_layer)\n",
        "    hidden_layer = keras.layers.MaxPooling1D(pool_size=2)(hidden_layer)\n",
        "\n",
        "    hidden_layer = keras.layers.Flatten()(hidden_layer)\n",
        "    hidden_layer = keras.layers.Dense(hp.Int(\"units\", min_value=8, max_value=64, step=8),\n",
        "                                      activation=\"relu\")(hidden_layer)\n",
        "\n",
        "    if hp.Boolean(\"dropout\"):\n",
        "        hidden_layer = keras.layers.Dropout(hp.Float(\"dr_rate\",\n",
        "                                                     min_value=0.1,\n",
        "                                                     max_value=0.5,\n",
        "                                                     step=0.1))(hidden_layer)\n",
        "\n",
        "    output_layer = keras.layers.Dense(4, activation=\"softmax\")(hidden_layer)\n",
        "\n",
        "    # Create now the model\n",
        "    model = keras.models.Model(inputs=input_layer, outputs=output_layer)\n",
        "\n",
        "    # Compile the model. Since we have one-hot encoded classes we use the categorical crossentropy\n",
        "    model.compile(optimizer='adam', loss='categorical_crossentropy')\n",
        "\n",
        "    return model\n",
        "\n",
        "# Let's create our tuner, optimizing a val_loss search. You can replace the Optimizer e.g.\n",
        "# with a Bayesion Search or Hyperband optimization\n",
        "tuner = kt.RandomSearch(create_model,\n",
        "                        objective='val_loss',\n",
        "                        max_trials=25)\n",
        "\n",
        "# Number of epochs and batch size\n",
        "end_epoch = 400\n",
        "batch_size = 64\n",
        "\n",
        "# Searching now for the best solution\n",
        "tuner.search(X_train,\n",
        "             y_train,\n",
        "             batch_size=batch_size,\n",
        "             verbose=0,\n",
        "             validation_split=0.25,\n",
        "             epochs=end_epoch,\n",
        "             callbacks=[es_callback, keras.callbacks.TensorBoard()])\n",
        "\n",
        "# Get the best model\n",
        "model = tuner.get_best_models()[0]"
      ],
      "metadata": {
        "colab": {
          "base_uri": "https://localhost:8080/"
        },
        "id": "HGEsGmaRcfju",
        "outputId": "f5c7a96e-3c15-4f88-c7fd-9ff5465dacf5"
      },
      "execution_count": null,
      "outputs": [
        {
          "output_type": "stream",
          "name": "stdout",
          "text": [
            "Reloading Tuner from ./untitled_project/tuner0.json\n"
          ]
        },
        {
          "output_type": "stream",
          "name": "stderr",
          "text": [
            "WARNING:tensorflow:Callback method `on_train_batch_end` is slow compared to the batch time (batch time: 0.0016s vs `on_train_batch_end` time: 0.0024s). Check your callbacks.\n",
            "WARNING:tensorflow:Callback method `on_train_batch_end` is slow compared to the batch time (batch time: 0.0023s vs `on_train_batch_end` time: 0.0044s). Check your callbacks.\n",
            "WARNING:tensorflow:Callback method `on_train_batch_end` is slow compared to the batch time (batch time: 0.0017s vs `on_train_batch_end` time: 0.0025s). Check your callbacks.\n",
            "WARNING:tensorflow:Callback method `on_train_batch_end` is slow compared to the batch time (batch time: 0.0017s vs `on_train_batch_end` time: 0.0023s). Check your callbacks.\n",
            "WARNING:tensorflow:Callback method `on_train_batch_end` is slow compared to the batch time (batch time: 0.0024s vs `on_train_batch_end` time: 0.0041s). Check your callbacks.\n",
            "WARNING:tensorflow:Callback method `on_train_batch_end` is slow compared to the batch time (batch time: 0.0022s vs `on_train_batch_end` time: 0.0028s). Check your callbacks.\n",
            "WARNING:tensorflow:Callback method `on_train_batch_end` is slow compared to the batch time (batch time: 0.0037s vs `on_train_batch_end` time: 0.0043s). Check your callbacks.\n"
          ]
        }
      ]
    },
    {
      "cell_type": "code",
      "source": [
        "#WARNING:tensorflow:`evaluate()` received a value for `sample_weight`, but `weighted_metrics` were not provided.  Did you mean to pass metrics to `weighted_metrics` in `compile()`?  If this is intentional you can pass `weighted_metrics=[]` to `compile()` in order to silence this warning.\n",
        "# use this for tuner.search funtciton uner.search(X_train,\n",
        "             y_train,\n",
        "             batch_size=batch_size,\n",
        "             verbose=0,\n",
        "             validation_split=0.25,\n",
        "             epochs=end_epoch,\n",
        "             callbacks=[es_callback, keras.callbacks.TensorBoard()])\n"
      ],
      "metadata": {
        "id": "yMvFG5sRc8r2"
      },
      "execution_count": null,
      "outputs": []
    },
    {
      "cell_type": "code",
      "source": [
        "tuner.results_summary()"
      ],
      "metadata": {
        "colab": {
          "base_uri": "https://localhost:8080/"
        },
        "id": "pQjd4q-ac6_b",
        "outputId": "1dc0799e-f612-49b4-b583-18c5d23985ee"
      },
      "execution_count": null,
      "outputs": [
        {
          "output_type": "stream",
          "name": "stdout",
          "text": [
            "Results summary\n",
            "Results in ./untitled_project\n",
            "Showing 10 best trials\n",
            "Objective(name=\"val_loss\", direction=\"min\")\n",
            "\n",
            "Trial 00 summary\n",
            "Hyperparameters:\n",
            "1st_filters: 8\n",
            "1st_kernel_size: 4\n",
            "2nd_filters: 80\n",
            "2nd_kernel_size: 7\n",
            "units: 32\n",
            "dropout: True\n",
            "dr_rate: 0.1\n",
            "Score: 0.09369094669818878\n",
            "\n",
            "Trial 07 summary\n",
            "Hyperparameters:\n",
            "1st_filters: 8\n",
            "1st_kernel_size: 4\n",
            "2nd_filters: 80\n",
            "2nd_kernel_size: 6\n",
            "units: 48\n",
            "dropout: False\n",
            "dr_rate: 0.2\n",
            "Score: 0.10548949241638184\n",
            "\n",
            "Trial 15 summary\n",
            "Hyperparameters:\n",
            "1st_filters: 32\n",
            "1st_kernel_size: 6\n",
            "2nd_filters: 112\n",
            "2nd_kernel_size: 7\n",
            "units: 56\n",
            "dropout: False\n",
            "dr_rate: 0.30000000000000004\n",
            "Score: 0.10645414888858795\n",
            "\n",
            "Trial 18 summary\n",
            "Hyperparameters:\n",
            "1st_filters: 24\n",
            "1st_kernel_size: 4\n",
            "2nd_filters: 96\n",
            "2nd_kernel_size: 5\n",
            "units: 16\n",
            "dropout: False\n",
            "dr_rate: 0.1\n",
            "Score: 0.10747282952070236\n",
            "\n",
            "Trial 19 summary\n",
            "Hyperparameters:\n",
            "1st_filters: 24\n",
            "1st_kernel_size: 5\n",
            "2nd_filters: 48\n",
            "2nd_kernel_size: 7\n",
            "units: 56\n",
            "dropout: True\n",
            "dr_rate: 0.1\n",
            "Score: 0.10872163623571396\n",
            "\n",
            "Trial 10 summary\n",
            "Hyperparameters:\n",
            "1st_filters: 8\n",
            "1st_kernel_size: 5\n",
            "2nd_filters: 64\n",
            "2nd_kernel_size: 7\n",
            "units: 48\n",
            "dropout: True\n",
            "dr_rate: 0.5\n",
            "Score: 0.11046910285949707\n",
            "\n",
            "Trial 01 summary\n",
            "Hyperparameters:\n",
            "1st_filters: 24\n",
            "1st_kernel_size: 3\n",
            "2nd_filters: 80\n",
            "2nd_kernel_size: 4\n",
            "units: 16\n",
            "dropout: True\n",
            "dr_rate: 0.1\n",
            "Score: 0.11108147352933884\n",
            "\n",
            "Trial 16 summary\n",
            "Hyperparameters:\n",
            "1st_filters: 24\n",
            "1st_kernel_size: 3\n",
            "2nd_filters: 128\n",
            "2nd_kernel_size: 4\n",
            "units: 64\n",
            "dropout: True\n",
            "dr_rate: 0.4\n",
            "Score: 0.11156559735536575\n",
            "\n",
            "Trial 13 summary\n",
            "Hyperparameters:\n",
            "1st_filters: 16\n",
            "1st_kernel_size: 6\n",
            "2nd_filters: 96\n",
            "2nd_kernel_size: 7\n",
            "units: 64\n",
            "dropout: False\n",
            "dr_rate: 0.1\n",
            "Score: 0.11260133236646652\n",
            "\n",
            "Trial 03 summary\n",
            "Hyperparameters:\n",
            "1st_filters: 24\n",
            "1st_kernel_size: 4\n",
            "2nd_filters: 64\n",
            "2nd_kernel_size: 3\n",
            "units: 16\n",
            "dropout: False\n",
            "dr_rate: 0.5\n",
            "Score: 0.11280898749828339\n"
          ]
        }
      ]
    },
    {
      "cell_type": "code",
      "source": [
        "model.summary()"
      ],
      "metadata": {
        "colab": {
          "base_uri": "https://localhost:8080/"
        },
        "id": "m6qFg4B1fcQb",
        "outputId": "282ac51c-56cd-4427-c4b8-d5c297ba65f8"
      },
      "execution_count": null,
      "outputs": [
        {
          "output_type": "stream",
          "name": "stdout",
          "text": [
            "Model: \"model\"\n",
            "_________________________________________________________________\n",
            " Layer (type)                Output Shape              Param #   \n",
            "=================================================================\n",
            " input_1 (InputLayer)        [(None, 49, 1)]           0         \n",
            "                                                                 \n",
            " normalization (Normalizati  (None, 49, 1)             99        \n",
            " on)                                                             \n",
            "                                                                 \n",
            " conv1d_1 (Conv1D)           (None, 43, 80)            640       \n",
            "                                                                 \n",
            " max_pooling1d_1 (MaxPoolin  (None, 21, 80)            0         \n",
            " g1D)                                                            \n",
            "                                                                 \n",
            " flatten (Flatten)           (None, 1680)              0         \n",
            "                                                                 \n",
            " dense (Dense)               (None, 32)                53792     \n",
            "                                                                 \n",
            " dropout (Dropout)           (None, 32)                0         \n",
            "                                                                 \n",
            " dense_1 (Dense)             (None, 4)                 132       \n",
            "                                                                 \n",
            "=================================================================\n",
            "Total params: 54663 (213.53 KB)\n",
            "Trainable params: 54564 (213.14 KB)\n",
            "Non-trainable params: 99 (400.00 Byte)\n",
            "_________________________________________________________________\n"
          ]
        }
      ]
    },
    {
      "cell_type": "code",
      "source": [
        "tuner.oracle.get_best_trials()[0].trial_id\n"
      ],
      "metadata": {
        "colab": {
          "base_uri": "https://localhost:8080/",
          "height": 36
        },
        "id": "3c_coItqfiG7",
        "outputId": "f45cec9b-2aac-4fc2-afc5-a6ad8a4f2927"
      },
      "execution_count": null,
      "outputs": [
        {
          "output_type": "execute_result",
          "data": {
            "text/plain": [
              "'00'"
            ],
            "application/vnd.google.colaboratory.intrinsic+json": {
              "type": "string"
            }
          },
          "metadata": {},
          "execution_count": 15
        }
      ]
    },
    {
      "cell_type": "code",
      "source": [
        "%tensorboard --logdir logs"
      ],
      "metadata": {
        "colab": {
          "base_uri": "https://localhost:8080/",
          "height": 822
        },
        "id": "KAoQ_z6sfjy8",
        "outputId": "7e6734ed-fd6b-4f7b-ca96-f447578f2751"
      },
      "execution_count": null,
      "outputs": [
        {
          "output_type": "display_data",
          "data": {
            "text/plain": [
              "<IPython.core.display.Javascript object>"
            ],
            "application/javascript": [
              "\n",
              "        (async () => {\n",
              "            const url = new URL(await google.colab.kernel.proxyPort(6006, {'cache': true}));\n",
              "            url.searchParams.set('tensorboardColab', 'true');\n",
              "            const iframe = document.createElement('iframe');\n",
              "            iframe.src = url;\n",
              "            iframe.setAttribute('width', '100%');\n",
              "            iframe.setAttribute('height', '800');\n",
              "            iframe.setAttribute('frameborder', 0);\n",
              "            document.body.appendChild(iframe);\n",
              "        })();\n",
              "    "
            ]
          },
          "metadata": {}
        }
      ]
    },
    {
      "cell_type": "code",
      "source": [
        "y_test_prop_pred = model.predict(X_test)\n",
        "\n",
        "# Compute the corresponding one-hot classes\n",
        "y_test_oh_pred = np.zeros_like(y_test_prop_pred)\n",
        "y_test_oh_pred[np.arange(len(y_test_prop_pred)), y_test_prop_pred.argmax(1)] = 1\n",
        "\n",
        "# Re-transform the classes now!\n",
        "asteroid_classes_test = label_encoder.inverse_transform(y_test).reshape(1, -1)[0]\n",
        "asteroid_classes_test_pred = label_encoder.inverse_transform(y_test_oh_pred).reshape(1, -1)[0]\n",
        "\n",
        "# Compute the confusion matrix\n",
        "conf_mat = confusion_matrix(asteroid_classes_test,\n",
        "                            asteroid_classes_test_pred,\n",
        "                            labels=[\"C\", \"S\", \"X\", \"Other\"])\n",
        "\n",
        "disp = ConfusionMatrixDisplay(confusion_matrix=conf_mat,\n",
        "                              display_labels=[\"C\", \"S\", \"X\", \"Other\"])\n",
        "disp.plot()\n",
        "plt.show()\n",
        "\n",
        "# A combined score\n",
        "f1_score = round(sklearn.metrics.f1_score(asteroid_classes_test,\n",
        "                                          asteroid_classes_test_pred,\n",
        "                                          average=\"weighted\"), 3)\n",
        "print(f\"F1 Score: {f1_score}\")\n"
      ],
      "metadata": {
        "colab": {
          "base_uri": "https://localhost:8080/",
          "height": 484
        },
        "id": "gkDfmARpfocp",
        "outputId": "56f17483-4ff5-4836-c445-81356d46c194"
      },
      "execution_count": null,
      "outputs": [
        {
          "output_type": "stream",
          "name": "stdout",
          "text": [
            "9/9 [==============================] - 0s 4ms/step\n"
          ]
        },
        {
          "output_type": "display_data",
          "data": {
            "text/plain": [
              "<Figure size 640x480 with 2 Axes>"
            ],
            "image/png": "[encoded data removed]"
          },
          "metadata": {}
        },
        {
          "output_type": "stream",
          "name": "stdout",
          "text": [
            "F1 Score: 0.967\n"
          ]
        }
      ]
    }
  ]
}