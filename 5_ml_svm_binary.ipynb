{
  "nbformat": 4,
  "nbformat_minor": 0,
  "metadata": {
    "colab": {
      "provenance": []
    },
    "kernelspec": {
      "name": "python3",
      "display_name": "Python 3"
    },
    "language_info": {
      "name": "python"
    }
  },
  "cells": [
    {
      "cell_type": "code",
      "execution_count": null,
      "metadata": {
        "id": "zUUn_WU6XBNz"
      },
      "outputs": [],
      "source": [
        "import os\n",
        "\n",
        "import numpy as np\n",
        "import pandas as pd\n",
        "import sklearn"
      ]
    },
    {
      "cell_type": "code",
      "source": [
        "try:\n",
        "    from google.colab import drive\n",
        "    drive.mount('/gdrive')\n",
        "    core_path = \"/path name/\"\n",
        "except ModuleNotFoundError:\n",
        "    core_path = \"\""
      ],
      "metadata": {
        "colab": {
          "base_uri": "https://localhost:8080/"
        },
        "id": "M-6NvI2fXecF",
        "outputId": "0914a520-f79e-4076-8c4a-5d43808db985"
      },
      "execution_count": null,
      "outputs": [
        {
          "output_type": "stream",
          "name": "stdout",
          "text": [
            "Drive already mounted at /gdrive; to attempt to forcibly remount, call drive.mount(\"/gdrive\", force_remount=True).\n"
          ]
        }
      ]
    },
    {
      "cell_type": "code",
      "source": [
        "asteroids_df = pd.read_pickle(os.path.join(core_path, \"data/lvl2/\", \"asteroids.pkl\"))\n"
      ],
      "metadata": {
        "id": "t8damzRzsBmX"
      },
      "execution_count": null,
      "outputs": []
    },
    {
      "cell_type": "code",
      "source": [
        "asteroids_df.loc[:, \"Class\"] = asteroids_df[\"Main_Group\"].apply(lambda x: 1 if x==\"X\" else 0)"
      ],
      "metadata": {
        "id": "m2aJH64HszwJ"
      },
      "execution_count": null,
      "outputs": []
    },
    {
      "cell_type": "code",
      "source": [
        "asteroids_X = np.array([k[\"Reflectance_norm550nm\"].tolist() for k in asteroids_df[\"SpectrumDF\"]])\n",
        "asteroids_y = np.array(asteroids_df[\"Class\"].to_list())"
      ],
      "metadata": {
        "id": "_hlYPjWwtOYt"
      },
      "execution_count": null,
      "outputs": []
    },
    {
      "cell_type": "code",
      "source": [
        "asteroids_X"
      ],
      "metadata": {
        "colab": {
          "base_uri": "https://localhost:8080/"
        },
        "id": "3JZAyviTuFjf",
        "outputId": "6b182690-9cc8-419b-c829-56c0977ade01"
      },
      "execution_count": null,
      "outputs": [
        {
          "output_type": "execute_result",
          "data": {
            "text/plain": [
              "array([[0.9281, 0.9388, 0.9488, ..., 1.0165, 1.0181, 1.02  ],\n",
              "       [0.9758, 0.9788, 0.9816, ..., 0.9815, 0.9795, 0.9762],\n",
              "       [0.8692, 0.8824, 0.8962, ..., 1.0055, 1.0058, 1.0038],\n",
              "       ...,\n",
              "       [0.935 , 0.9435, 0.952 , ..., 1.0451, 1.0486, 1.0532],\n",
              "       [0.845 , 0.86  , 0.875 , ..., 1.059 , 1.0548, 1.0509],\n",
              "       [0.919 , 0.9257, 0.9323, ..., 0.9971, 0.9852, 0.9731]])"
            ]
          },
          "metadata": {},
          "execution_count": 18
        }
      ]
    },
    {
      "cell_type": "code",
      "source": [
        "asteroids_y"
      ],
      "metadata": {
        "colab": {
          "base_uri": "https://localhost:8080/"
        },
        "id": "KQdpshikuMU6",
        "outputId": "f9ac7d60-50db-4148-f72f-083c1962663c"
      },
      "execution_count": null,
      "outputs": [
        {
          "output_type": "execute_result",
          "data": {
            "text/plain": [
              "array([0, 0, 0, ..., 1, 0, 1])"
            ]
          },
          "metadata": {},
          "execution_count": 19
        }
      ]
    },
    {
      "cell_type": "code",
      "source": [
        "from sklearn.model_selection import StratifiedShuffleSplit\n",
        "sss= StratifiedShuffleSplit(n_splits=1, test_size=0.2, random_state=0)\n",
        "\n",
        "for train_index, test_index in sss.split(asteroids_X, asteroids_y):\n",
        "  X_train, X_test = asteroids_X[train_index], asteroids_X[test_index]\n",
        "  y_train, y_test = asteroids_y[train_index], asteroids_y[test_index]"
      ],
      "metadata": {
        "id": "3n6bb319uT3D"
      },
      "execution_count": null,
      "outputs": []
    },
    {
      "cell_type": "code",
      "source": [
        "print(sum(y_train) / len(y_train))\n",
        "print(sum(y_test) / len(y_test))"
      ],
      "metadata": {
        "colab": {
          "base_uri": "https://localhost:8080/"
        },
        "id": "FECZS-gIxJia",
        "outputId": "2c869697-94f6-408a-dffc-9f7556e5912e"
      },
      "execution_count": null,
      "outputs": [
        {
          "output_type": "stream",
          "name": "stdout",
          "text": [
            "0.17763157894736842\n",
            "0.1797752808988764\n"
          ]
        }
      ]
    },
    {
      "cell_type": "code",
      "source": [
        "print(f\"Ratio of positive training classes: {round(sum(y_train) / len(X_train), 2)}\")\n",
        "print(f\"Ratio of positive test classes: {round(sum(y_test) / len(X_test), 2)}\")\n"
      ],
      "metadata": {
        "colab": {
          "base_uri": "https://localhost:8080/"
        },
        "id": "6wZrBOZAxxXL",
        "outputId": "d3da3e80-37c3-4e71-9065-1eab5327271c"
      },
      "execution_count": null,
      "outputs": [
        {
          "output_type": "stream",
          "name": "stdout",
          "text": [
            "Ratio of positive training classes: 0.18\n",
            "Ratio of positive test classes: 0.18\n"
          ]
        }
      ]
    },
    {
      "cell_type": "code",
      "source": [
        "positive_class_weight = int(1.0 / (sum(y_train) / len(X_train)))\n",
        "print(f\"Positive Class weightning: {positive_class_weight}\")"
      ],
      "metadata": {
        "colab": {
          "base_uri": "https://localhost:8080/"
        },
        "id": "oLJgMFSNx2Ju",
        "outputId": "70cf3ae6-c1a4-47ea-c1e2-2e8620ad702d"
      },
      "execution_count": null,
      "outputs": [
        {
          "output_type": "stream",
          "name": "stdout",
          "text": [
            "Positive Class weightning: 5\n"
          ]
        }
      ]
    },
    {
      "cell_type": "code",
      "source": [
        "#scaling\n",
        "from sklearn import preprocessing\n",
        "scaler = preprocessing.StandardScaler().fit(X_train)\n",
        "\n",
        "X_train_scaled = scaler.transform(X_train)"
      ],
      "metadata": {
        "id": "-b-EDKOkx82i"
      },
      "execution_count": null,
      "outputs": []
    },
    {
      "cell_type": "code",
      "source": [
        "#trainingf\n",
        "from sklearn import svm\n",
        "\n",
        "wclf = svm.SVC(kernel='rbf', class_weight={1: positive_class_weight}, C=100)\n",
        "\n",
        "# Perform the training\n",
        "wclf.fit(X_train_scaled, y_train)"
      ],
      "metadata": {
        "id": "KIsxTVELyotO"
      },
      "execution_count": null,
      "outputs": []
    },
    {
      "cell_type": "code",
      "source": [
        "X_test_scaled = scaler.transform(X_test)\n",
        "\n",
        "y_test_pred = wclf.predict(X_test_scaled)"
      ],
      "metadata": {
        "id": "OrkMpymTz8-O"
      },
      "execution_count": null,
      "outputs": []
    },
    {
      "cell_type": "code",
      "source": [
        "#metrics\n",
        "\n",
        "from sklearn.metrics import confusion_matrix\n",
        "conf_mat = confusion_matrix(y_test, y_test_pred)\n",
        "\n",
        "print (conf_mat)"
      ],
      "metadata": {
        "colab": {
          "base_uri": "https://localhost:8080/"
        },
        "id": "6L9HJnzh1I6R",
        "outputId": "b7a5ba2b-8584-487c-c345-d7b4f94d7957"
      },
      "execution_count": null,
      "outputs": [
        {
          "output_type": "stream",
          "name": "stdout",
          "text": [
            "[[214   5]\n",
            " [  0  48]]\n"
          ]
        }
      ]
    },
    {
      "cell_type": "code",
      "source": [
        "recall_score = round(sklearn.metrics.recall_score(y_test, y_test_pred), 3)\n",
        "print(f\"Recall Score: {recall_score}\")\n",
        "precision_score = round(sklearn.metrics.precision_score(y_test, y_test_pred), 3)\n",
        "print(precision_score)\n",
        "\n",
        "f1_score = round(sklearn.metrics.f1_score(y_test, y_test_pred), 3)\n",
        "print(f\"F1 Score: {f1_score}\")"
      ],
      "metadata": {
        "colab": {
          "base_uri": "https://localhost:8080/"
        },
        "id": "XfzaXZh_2OyR",
        "outputId": "e3c9d836-c26a-44b8-ffbe-ec25e1c4e9dd"
      },
      "execution_count": null,
      "outputs": [
        {
          "output_type": "stream",
          "name": "stdout",
          "text": [
            "Recall Score: 1.0\n",
            "0.906\n",
            "F1 Score: 0.95\n"
          ]
        }
      ]
    },
    {
      "cell_type": "code",
      "source": [
        "asteroids_random_y = asteroids_y.copy()\n",
        "np.random.shuffle(asteroids_random_y)"
      ],
      "metadata": {
        "id": "J2JPfoCu2dCg"
      },
      "execution_count": null,
      "outputs": []
    },
    {
      "cell_type": "code",
      "source": [
        "f1_score_naive = round(sklearn.metrics.f1_score(asteroids_y, asteroids_random_y), 3)\n",
        "print(f\"Naive F1 Score: {f1_score_naive}\")"
      ],
      "metadata": {
        "colab": {
          "base_uri": "https://localhost:8080/"
        },
        "id": "ve8NRRbq3Qlt",
        "outputId": "b2b5312e-150c-4fe7-efa6-281e81ebdefb"
      },
      "execution_count": null,
      "outputs": [
        {
          "output_type": "stream",
          "name": "stdout",
          "text": [
            "Naive F1 Score: 0.215\n"
          ]
        }
      ]
    }
  ]
}