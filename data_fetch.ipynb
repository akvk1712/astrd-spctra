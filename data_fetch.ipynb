{
  "nbformat": 4,
  "nbformat_minor": 0,
  "metadata": {
    "colab": {
      "provenance": []
    },
    "kernelspec": {
      "name": "python3",
      "display_name": "Python 3"
    },
    "language_info": {
      "name": "python"
    }
  },
  "cells": [
    {
      "cell_type": "code",
      "source": [
        "import hashlib\n",
        "import os\n",
        "import pathlib\n",
        "import urllib.request"
      ],
      "metadata": {
        "id": "Z5lYy-yhZzf5"
      },
      "execution_count": null,
      "outputs": []
    },
    {
      "cell_type": "code",
      "source": [
        "try:\n",
        "    from google.colab import drive\n",
        "    drive.mount(\"/gdrive\")\n",
        "    core_path = \"/path name\"\n",
        "except ModuleNotFoundError:\n",
        "  core_path = \"\""
      ],
      "metadata": {
        "id": "gCNW9v8zamWL",
        "colab": {
          "base_uri": "https://localhost:8080/"
        },
        "outputId": "1324f15d-4a61-471e-9f2c-98918daea60c"
      },
      "execution_count": null,
      "outputs": [
        {
          "output_type": "stream",
          "name": "stdout",
          "text": [
            "Mounted at /gdrive\n"
          ]
        }
      ]
    },
    {
      "cell_type": "code",
      "source": [
        "import hashlib\n",
        "import pathlib\n",
        "\n",
        "def comp_sha256(file_name):\n",
        "    \"\"\"\n",
        "    Compute the SHA256 hash of a file.\n",
        "    Parameters\n",
        "    ----------\n",
        "    file_name : str\n",
        "        Absolute or relative pathname of the file that shall be parsed.\n",
        "    Returns\n",
        "    -------\n",
        "    sha256_res : str\n",
        "        Resulting SHA256 hash.\n",
        "    \"\"\"\n",
        "    # Set the SHA256 hashing\n",
        "    hash_sha256 = hashlib.sha256()\n",
        "\n",
        "    # Open the file in binary mode (read-only) and parse it in 65,536 byte chunks (in case of\n",
        "    # large files, the loading will not exceed the usable RAM)\n",
        "    with pathlib.Path(file_name).open(mode=\"rb\") as f_temp:\n",
        "        for _seq in iter(lambda: f_temp.read(65536), b\"\"):\n",
        "            hash_sha256.update(_seq)\n",
        "\n",
        "    # Digest the SHA256 result\n",
        "    sha256_res = hash_sha256.hexdigest()\n",
        "\n",
        "    return sha256_res\n"
      ],
      "metadata": {
        "id": "3wT0BLgU8IS2"
      },
      "execution_count": null,
      "outputs": []
    },
    {
      "cell_type": "code",
      "source": [
        "pathlib.Path(os.path.join(core_path, \"data/lvl0/\")).mkdir(parents=True, exist_ok=True)"
      ],
      "metadata": {
        "id": "tvrP-tVS8_rS"
      },
      "execution_count": null,
      "outputs": []
    },
    {
      "cell_type": "code",
      "source": [
        "files_to_dl = \\\n",
        "    {'file1': {'url': 'http://smass.mit.edu/data/smass/Bus.Taxonomy.txt',\n",
        "               'sha256': '0ce970a6972dd7c49d512848b9736d00b621c9d6395a035bd1b4f3780d4b56c6'},\n",
        "     'file2': {'url': 'http://smass.mit.edu/data/smass/smass2data.tar.gz',\n",
        "               'sha256': 'dacf575eb1403c08bdfbffcd5dbfe12503a588e09b04ed19cc4572584a57fa97'}}"
      ],
      "metadata": {
        "id": "gmuHQTZR9JtX"
      },
      "execution_count": null,
      "outputs": []
    },
    {
      "cell_type": "code",
      "source": [
        "for dl_key in files_to_dl:\n",
        "\n",
        "    # Get the URL and create a download filepath by splitting it at the last \"/\"\n",
        "    split = urllib.parse.urlsplit(files_to_dl[dl_key][\"url\"])\n",
        "    filename = pathlib.Path(os.path.join(core_path, \"data/lvl0/\", split.path.split(\"/\")[-1]))\n",
        "\n",
        "    # Download file if it is not available\n",
        "    if not filename.is_file():\n",
        "\n",
        "        print(f\"Downloading now: {files_to_dl[dl_key]['url']}\")\n",
        "\n",
        "        # Download file and retrieve the created filepath\n",
        "        downl_file_path, _ = urllib.request.urlretrieve(url=files_to_dl[dl_key][\"url\"],\n",
        "                                                        filename=filename)\n",
        "\n",
        "        # Compute and compare the hash value\n",
        "        tax_hash = comp_sha256(downl_file_path)\n",
        "        assert tax_hash == files_to_dl[dl_key][\"sha256\"]"
      ],
      "metadata": {
        "colab": {
          "base_uri": "https://localhost:8080/"
        },
        "id": "3lw7AN3x9UrC",
        "outputId": "74182875-d1ac-4693-ac09-0927af60f673"
      },
      "execution_count": null,
      "outputs": [
        {
          "output_type": "stream",
          "name": "stdout",
          "text": [
            "Downloading now: http://smass.mit.edu/data/smass/Bus.Taxonomy.txt\n",
            "Downloading now: http://smass.mit.edu/data/smass/smass2data.tar.gz\n"
          ]
        }
      ]
    },
    {
      "cell_type": "code",
      "source": [
        "tar = tarfile.open(os.path.join(core_path, \"data/lvl0/\", \"smass2data.tar.gz\"), \"r:gz\")\n",
        "tar.extractall(os.path.join(core_path, \"data/lvl0/\"))\n",
        "tar.close()"
      ],
      "metadata": {
        "id": "XoJlfXrz9qkL"
      },
      "execution_count": null,
      "outputs": []
    }
  ]
}