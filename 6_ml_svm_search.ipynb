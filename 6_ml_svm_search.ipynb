{
  "nbformat": 4,
  "nbformat_minor": 0,
  "metadata": {
    "colab": {
      "provenance": []
    },
    "kernelspec": {
      "name": "python3",
      "display_name": "Python 3"
    },
    "language_info": {
      "name": "python"
    }
  },
  "cells": [
    {
      "cell_type": "code",
      "execution_count": null,
      "metadata": {
        "id": "q7bQDV27zIud"
      },
      "outputs": [],
      "source": [
        "import os\n",
        "\n",
        "# Import installed libraries\n",
        "import numpy as np\n",
        "import pandas as pd\n",
        "import sklearn\n",
        "\n",
        "from sklearn import preprocessing\n",
        "from sklearn import svm\n",
        "from sklearn.model_selection import GridSearchCV"
      ]
    },
    {
      "cell_type": "code",
      "source": [
        "try:\n",
        "    from google.colab import drive\n",
        "    drive.mount('/gdrive')\n",
        "    core_path = \"/path name/\"\n",
        "except ModuleNotFoundError:\n",
        "    core_path = \"\""
      ],
      "metadata": {
        "colab": {
          "base_uri": "https://localhost:8080/"
        },
        "id": "bl744mbd1Z0H",
        "outputId": "6511513b-24b7-49b7-8b40-8f39468f97ed"
      },
      "execution_count": null,
      "outputs": [
        {
          "output_type": "stream",
          "name": "stdout",
          "text": [
            "Mounted at /gdrive\n"
          ]
        }
      ]
    },
    {
      "cell_type": "code",
      "source": [
        "asteroids_df = pd.read_pickle(os.path.join(core_path, \"data/lvl2/\", \"asteroids.pkl\"))"
      ],
      "metadata": {
        "id": "obbOQ6KP1gWu"
      },
      "execution_count": null,
      "outputs": []
    },
    {
      "cell_type": "code",
      "source": [
        "asteroids_df.loc[:, \"Class\"] = asteroids_df[\"Main_Group\"].apply(lambda x: 1 if x==\"X\" else 0)\n"
      ],
      "metadata": {
        "id": "_o_Z-bxE1knN"
      },
      "execution_count": null,
      "outputs": []
    },
    {
      "cell_type": "code",
      "source": [
        "asteroids_X = np.array([k[\"Reflectance_norm550nm\"].tolist() for k in asteroids_df[\"SpectrumDF\"]])\n",
        "asteroids_y = np.array(asteroids_df[\"Class\"].to_list())"
      ],
      "metadata": {
        "id": "NPEnni3F22Tj"
      },
      "execution_count": null,
      "outputs": []
    },
    {
      "cell_type": "code",
      "source": [
        "from sklearn.model_selection import StratifiedShuffleSplit\n",
        "sss = StratifiedShuffleSplit(n_splits=1, test_size=0.2)\n",
        "\n",
        "# Create a simple, single train / test split\n",
        "for train_index, test_index in sss.split(asteroids_X, asteroids_y):\n",
        "\n",
        "    X_train, X_test = asteroids_X[train_index], asteroids_X[test_index]\n",
        "    y_train, y_test = asteroids_y[train_index], asteroids_y[test_index]\n",
        "\n",
        "# Compute class weightning\n",
        "positive_class_weight = int(1.0 / (sum(y_train) / len(X_train)))"
      ],
      "metadata": {
        "id": "5T4oZuhH1rX2"
      },
      "execution_count": null,
      "outputs": []
    },
    {
      "cell_type": "code",
      "source": [
        "param_grid = [\n",
        "  {'C': [1, 10, 100], 'kernel': ['linear']},\n",
        "  {'C': [1, 10, 100], 'kernel': ['rbf']},\n",
        " ]\n",
        "\n",
        "# Set the SVM classifier\n",
        "svc = svm.SVC(class_weight={1: positive_class_weight})\n",
        "\n",
        "# Instantiate the StandardScaler (mean 0, standard deviation 1) and use the training data to fit\n",
        "# the scaler\n",
        "scaler = preprocessing.StandardScaler().fit(X_train)\n",
        "\n",
        "# Transform now the training data\n",
        "X_train_scaled = scaler.transform(X_train)\n",
        "\n",
        "# Set the GridSearch and ...\n",
        "wclf = GridSearchCV(svc, param_grid, scoring='f1', verbose=3, cv=5)\n",
        "\n",
        "# ... perform the training!\n",
        "wclf.fit(X_train_scaled, y_train)"
      ],
      "metadata": {
        "colab": {
          "base_uri": "https://localhost:8080/",
          "height": 655
        },
        "id": "zEjxh69J25PS",
        "outputId": "e3f3a5f9-e844-4c5e-ba1e-1c77deba457f"
      },
      "execution_count": null,
      "outputs": [
        {
          "output_type": "stream",
          "name": "stdout",
          "text": [
            "Fitting 5 folds for each of 6 candidates, totalling 30 fits\n",
            "[CV 1/5] END ................C=1, kernel=linear;, score=0.553 total time=   0.2s\n",
            "[CV 2/5] END ................C=1, kernel=linear;, score=0.555 total time=   0.2s\n",
            "[CV 3/5] END ................C=1, kernel=linear;, score=0.585 total time=   0.1s\n",
            "[CV 4/5] END ................C=1, kernel=linear;, score=0.512 total time=   0.2s\n",
            "[CV 5/5] END ................C=1, kernel=linear;, score=0.577 total time=   0.3s\n",
            "[CV 1/5] END ...............C=10, kernel=linear;, score=0.557 total time=   0.9s\n",
            "[CV 2/5] END ...............C=10, kernel=linear;, score=0.559 total time=   0.7s\n",
            "[CV 3/5] END ...............C=10, kernel=linear;, score=0.600 total time=   0.6s\n",
            "[CV 4/5] END ...............C=10, kernel=linear;, score=0.571 total time=   0.3s\n",
            "[CV 5/5] END ...............C=10, kernel=linear;, score=0.606 total time=   0.2s\n",
            "[CV 1/5] END ..............C=100, kernel=linear;, score=0.562 total time=   2.1s\n",
            "[CV 2/5] END ..............C=100, kernel=linear;, score=0.557 total time=   4.6s\n",
            "[CV 3/5] END ..............C=100, kernel=linear;, score=0.598 total time=   2.3s\n",
            "[CV 4/5] END ..............C=100, kernel=linear;, score=0.520 total time=   2.9s\n",
            "[CV 5/5] END ..............C=100, kernel=linear;, score=0.557 total time=   2.2s\n",
            "[CV 1/5] END ...................C=1, kernel=rbf;, score=0.905 total time=   0.0s\n",
            "[CV 2/5] END ...................C=1, kernel=rbf;, score=0.851 total time=   0.0s\n",
            "[CV 3/5] END ...................C=1, kernel=rbf;, score=0.905 total time=   0.0s\n",
            "[CV 4/5] END ...................C=1, kernel=rbf;, score=0.844 total time=   0.0s\n",
            "[CV 5/5] END ...................C=1, kernel=rbf;, score=0.805 total time=   0.0s\n",
            "[CV 1/5] END ..................C=10, kernel=rbf;, score=0.962 total time=   0.0s\n",
            "[CV 2/5] END ..................C=10, kernel=rbf;, score=0.925 total time=   0.0s\n",
            "[CV 3/5] END ..................C=10, kernel=rbf;, score=0.950 total time=   0.0s\n",
            "[CV 4/5] END ..................C=10, kernel=rbf;, score=0.927 total time=   0.0s\n",
            "[CV 5/5] END ..................C=10, kernel=rbf;, score=0.824 total time=   0.0s\n",
            "[CV 1/5] END .................C=100, kernel=rbf;, score=0.973 total time=   0.0s\n",
            "[CV 2/5] END .................C=100, kernel=rbf;, score=0.933 total time=   0.0s\n",
            "[CV 3/5] END .................C=100, kernel=rbf;, score=0.962 total time=   0.0s\n",
            "[CV 4/5] END .................C=100, kernel=rbf;, score=0.937 total time=   0.0s\n",
            "[CV 5/5] END .................C=100, kernel=rbf;, score=0.900 total time=   0.0s\n"
          ]
        },
        {
          "output_type": "execute_result",
          "data": {
            "text/plain": [
              "GridSearchCV(cv=5, estimator=SVC(class_weight={1: 5}),\n",
              "             param_grid=[{'C': [1, 10, 100], 'kernel': ['linear']},\n",
              "                         {'C': [1, 10, 100], 'kernel': ['rbf']}],\n",
              "             scoring='f1', verbose=3)"
            ],
            "text/html": [
              "<style>#sk-container-id-1 {color: black;background-color: white;}#sk-container-id-1 pre{padding: 0;}#sk-container-id-1 div.sk-toggleable {background-color: white;}#sk-container-id-1 label.sk-toggleable__label {cursor: pointer;display: block;width: 100%;margin-bottom: 0;padding: 0.3em;box-sizing: border-box;text-align: center;}#sk-container-id-1 label.sk-toggleable__label-arrow:before {content: \"▸\";float: left;margin-right: 0.25em;color: #696969;}#sk-container-id-1 label.sk-toggleable__label-arrow:hover:before {color: black;}#sk-container-id-1 div.sk-estimator:hover label.sk-toggleable__label-arrow:before {color: black;}#sk-container-id-1 div.sk-toggleable__content {max-height: 0;max-width: 0;overflow: hidden;text-align: left;background-color: #f0f8ff;}#sk-container-id-1 div.sk-toggleable__content pre {margin: 0.2em;color: black;border-radius: 0.25em;background-color: #f0f8ff;}#sk-container-id-1 input.sk-toggleable__control:checked~div.sk-toggleable__content {max-height: 200px;max-width: 100%;overflow: auto;}#sk-container-id-1 input.sk-toggleable__control:checked~label.sk-toggleable__label-arrow:before {content: \"▾\";}#sk-container-id-1 div.sk-estimator input.sk-toggleable__control:checked~label.sk-toggleable__label {background-color: #d4ebff;}#sk-container-id-1 div.sk-label input.sk-toggleable__control:checked~label.sk-toggleable__label {background-color: #d4ebff;}#sk-container-id-1 input.sk-hidden--visually {border: 0;clip: rect(1px 1px 1px 1px);clip: rect(1px, 1px, 1px, 1px);height: 1px;margin: -1px;overflow: hidden;padding: 0;position: absolute;width: 1px;}#sk-container-id-1 div.sk-estimator {font-family: monospace;background-color: #f0f8ff;border: 1px dotted black;border-radius: 0.25em;box-sizing: border-box;margin-bottom: 0.5em;}#sk-container-id-1 div.sk-estimator:hover {background-color: #d4ebff;}#sk-container-id-1 div.sk-parallel-item::after {content: \"\";width: 100%;border-bottom: 1px solid gray;flex-grow: 1;}#sk-container-id-1 div.sk-label:hover label.sk-toggleable__label {background-color: #d4ebff;}#sk-container-id-1 div.sk-serial::before {content: \"\";position: absolute;border-left: 1px solid gray;box-sizing: border-box;top: 0;bottom: 0;left: 50%;z-index: 0;}#sk-container-id-1 div.sk-serial {display: flex;flex-direction: column;align-items: center;background-color: white;padding-right: 0.2em;padding-left: 0.2em;position: relative;}#sk-container-id-1 div.sk-item {position: relative;z-index: 1;}#sk-container-id-1 div.sk-parallel {display: flex;align-items: stretch;justify-content: center;background-color: white;position: relative;}#sk-container-id-1 div.sk-item::before, #sk-container-id-1 div.sk-parallel-item::before {content: \"\";position: absolute;border-left: 1px solid gray;box-sizing: border-box;top: 0;bottom: 0;left: 50%;z-index: -1;}#sk-container-id-1 div.sk-parallel-item {display: flex;flex-direction: column;z-index: 1;position: relative;background-color: white;}#sk-container-id-1 div.sk-parallel-item:first-child::after {align-self: flex-end;width: 50%;}#sk-container-id-1 div.sk-parallel-item:last-child::after {align-self: flex-start;width: 50%;}#sk-container-id-1 div.sk-parallel-item:only-child::after {width: 0;}#sk-container-id-1 div.sk-dashed-wrapped {border: 1px dashed gray;margin: 0 0.4em 0.5em 0.4em;box-sizing: border-box;padding-bottom: 0.4em;background-color: white;}#sk-container-id-1 div.sk-label label {font-family: monospace;font-weight: bold;display: inline-block;line-height: 1.2em;}#sk-container-id-1 div.sk-label-container {text-align: center;}#sk-container-id-1 div.sk-container {/* jupyter's `normalize.less` sets `[hidden] { display: none; }` but bootstrap.min.css set `[hidden] { display: none !important; }` so we also need the `!important` here to be able to override the default hidden behavior on the sphinx rendered scikit-learn.org. See: https://github.com/scikit-learn/scikit-learn/issues/21755 */display: inline-block !important;position: relative;}#sk-container-id-1 div.sk-text-repr-fallback {display: none;}</style><div id=\"sk-container-id-1\" class=\"sk-top-container\"><div class=\"sk-text-repr-fallback\"><pre>GridSearchCV(cv=5, estimator=SVC(class_weight={1: 5}),\n",
              "             param_grid=[{&#x27;C&#x27;: [1, 10, 100], &#x27;kernel&#x27;: [&#x27;linear&#x27;]},\n",
              "                         {&#x27;C&#x27;: [1, 10, 100], &#x27;kernel&#x27;: [&#x27;rbf&#x27;]}],\n",
              "             scoring=&#x27;f1&#x27;, verbose=3)</pre><b>In a Jupyter environment, please rerun this cell to show the HTML representation or trust the notebook. <br />On GitHub, the HTML representation is unable to render, please try loading this page with nbviewer.org.</b></div><div class=\"sk-container\" hidden><div class=\"sk-item sk-dashed-wrapped\"><div class=\"sk-label-container\"><div class=\"sk-label sk-toggleable\"><input class=\"sk-toggleable__control sk-hidden--visually\" id=\"sk-estimator-id-1\" type=\"checkbox\" ><label for=\"sk-estimator-id-1\" class=\"sk-toggleable__label sk-toggleable__label-arrow\">GridSearchCV</label><div class=\"sk-toggleable__content\"><pre>GridSearchCV(cv=5, estimator=SVC(class_weight={1: 5}),\n",
              "             param_grid=[{&#x27;C&#x27;: [1, 10, 100], &#x27;kernel&#x27;: [&#x27;linear&#x27;]},\n",
              "                         {&#x27;C&#x27;: [1, 10, 100], &#x27;kernel&#x27;: [&#x27;rbf&#x27;]}],\n",
              "             scoring=&#x27;f1&#x27;, verbose=3)</pre></div></div></div><div class=\"sk-parallel\"><div class=\"sk-parallel-item\"><div class=\"sk-item\"><div class=\"sk-label-container\"><div class=\"sk-label sk-toggleable\"><input class=\"sk-toggleable__control sk-hidden--visually\" id=\"sk-estimator-id-2\" type=\"checkbox\" ><label for=\"sk-estimator-id-2\" class=\"sk-toggleable__label sk-toggleable__label-arrow\">estimator: SVC</label><div class=\"sk-toggleable__content\"><pre>SVC(class_weight={1: 5})</pre></div></div></div><div class=\"sk-serial\"><div class=\"sk-item\"><div class=\"sk-estimator sk-toggleable\"><input class=\"sk-toggleable__control sk-hidden--visually\" id=\"sk-estimator-id-3\" type=\"checkbox\" ><label for=\"sk-estimator-id-3\" class=\"sk-toggleable__label sk-toggleable__label-arrow\">SVC</label><div class=\"sk-toggleable__content\"><pre>SVC(class_weight={1: 5})</pre></div></div></div></div></div></div></div></div></div></div>"
            ]
          },
          "metadata": {},
          "execution_count": 12
        }
      ]
    },
    {
      "cell_type": "code",
      "source": [
        "final_clf = wclf.best_estimator_"
      ],
      "metadata": {
        "id": "K0iNk-2KLIpG"
      },
      "execution_count": null,
      "outputs": []
    },
    {
      "cell_type": "code",
      "source": [
        "final_clf"
      ],
      "metadata": {
        "colab": {
          "base_uri": "https://localhost:8080/",
          "height": 74
        },
        "id": "KiIglC-_Lr0o",
        "outputId": "7f799e2a-936d-44c1-ab20-b6f808833921"
      },
      "execution_count": null,
      "outputs": [
        {
          "output_type": "execute_result",
          "data": {
            "text/plain": [
              "SVC(C=100, class_weight={1: 5})"
            ],
            "text/html": [
              "<style>#sk-container-id-2 {color: black;background-color: white;}#sk-container-id-2 pre{padding: 0;}#sk-container-id-2 div.sk-toggleable {background-color: white;}#sk-container-id-2 label.sk-toggleable__label {cursor: pointer;display: block;width: 100%;margin-bottom: 0;padding: 0.3em;box-sizing: border-box;text-align: center;}#sk-container-id-2 label.sk-toggleable__label-arrow:before {content: \"▸\";float: left;margin-right: 0.25em;color: #696969;}#sk-container-id-2 label.sk-toggleable__label-arrow:hover:before {color: black;}#sk-container-id-2 div.sk-estimator:hover label.sk-toggleable__label-arrow:before {color: black;}#sk-container-id-2 div.sk-toggleable__content {max-height: 0;max-width: 0;overflow: hidden;text-align: left;background-color: #f0f8ff;}#sk-container-id-2 div.sk-toggleable__content pre {margin: 0.2em;color: black;border-radius: 0.25em;background-color: #f0f8ff;}#sk-container-id-2 input.sk-toggleable__control:checked~div.sk-toggleable__content {max-height: 200px;max-width: 100%;overflow: auto;}#sk-container-id-2 input.sk-toggleable__control:checked~label.sk-toggleable__label-arrow:before {content: \"▾\";}#sk-container-id-2 div.sk-estimator input.sk-toggleable__control:checked~label.sk-toggleable__label {background-color: #d4ebff;}#sk-container-id-2 div.sk-label input.sk-toggleable__control:checked~label.sk-toggleable__label {background-color: #d4ebff;}#sk-container-id-2 input.sk-hidden--visually {border: 0;clip: rect(1px 1px 1px 1px);clip: rect(1px, 1px, 1px, 1px);height: 1px;margin: -1px;overflow: hidden;padding: 0;position: absolute;width: 1px;}#sk-container-id-2 div.sk-estimator {font-family: monospace;background-color: #f0f8ff;border: 1px dotted black;border-radius: 0.25em;box-sizing: border-box;margin-bottom: 0.5em;}#sk-container-id-2 div.sk-estimator:hover {background-color: #d4ebff;}#sk-container-id-2 div.sk-parallel-item::after {content: \"\";width: 100%;border-bottom: 1px solid gray;flex-grow: 1;}#sk-container-id-2 div.sk-label:hover label.sk-toggleable__label {background-color: #d4ebff;}#sk-container-id-2 div.sk-serial::before {content: \"\";position: absolute;border-left: 1px solid gray;box-sizing: border-box;top: 0;bottom: 0;left: 50%;z-index: 0;}#sk-container-id-2 div.sk-serial {display: flex;flex-direction: column;align-items: center;background-color: white;padding-right: 0.2em;padding-left: 0.2em;position: relative;}#sk-container-id-2 div.sk-item {position: relative;z-index: 1;}#sk-container-id-2 div.sk-parallel {display: flex;align-items: stretch;justify-content: center;background-color: white;position: relative;}#sk-container-id-2 div.sk-item::before, #sk-container-id-2 div.sk-parallel-item::before {content: \"\";position: absolute;border-left: 1px solid gray;box-sizing: border-box;top: 0;bottom: 0;left: 50%;z-index: -1;}#sk-container-id-2 div.sk-parallel-item {display: flex;flex-direction: column;z-index: 1;position: relative;background-color: white;}#sk-container-id-2 div.sk-parallel-item:first-child::after {align-self: flex-end;width: 50%;}#sk-container-id-2 div.sk-parallel-item:last-child::after {align-self: flex-start;width: 50%;}#sk-container-id-2 div.sk-parallel-item:only-child::after {width: 0;}#sk-container-id-2 div.sk-dashed-wrapped {border: 1px dashed gray;margin: 0 0.4em 0.5em 0.4em;box-sizing: border-box;padding-bottom: 0.4em;background-color: white;}#sk-container-id-2 div.sk-label label {font-family: monospace;font-weight: bold;display: inline-block;line-height: 1.2em;}#sk-container-id-2 div.sk-label-container {text-align: center;}#sk-container-id-2 div.sk-container {/* jupyter's `normalize.less` sets `[hidden] { display: none; }` but bootstrap.min.css set `[hidden] { display: none !important; }` so we also need the `!important` here to be able to override the default hidden behavior on the sphinx rendered scikit-learn.org. See: https://github.com/scikit-learn/scikit-learn/issues/21755 */display: inline-block !important;position: relative;}#sk-container-id-2 div.sk-text-repr-fallback {display: none;}</style><div id=\"sk-container-id-2\" class=\"sk-top-container\"><div class=\"sk-text-repr-fallback\"><pre>SVC(C=100, class_weight={1: 5})</pre><b>In a Jupyter environment, please rerun this cell to show the HTML representation or trust the notebook. <br />On GitHub, the HTML representation is unable to render, please try loading this page with nbviewer.org.</b></div><div class=\"sk-container\" hidden><div class=\"sk-item\"><div class=\"sk-estimator sk-toggleable\"><input class=\"sk-toggleable__control sk-hidden--visually\" id=\"sk-estimator-id-4\" type=\"checkbox\" checked><label for=\"sk-estimator-id-4\" class=\"sk-toggleable__label sk-toggleable__label-arrow\">SVC</label><div class=\"sk-toggleable__content\"><pre>SVC(C=100, class_weight={1: 5})</pre></div></div></div></div></div>"
            ]
          },
          "metadata": {},
          "execution_count": 17
        }
      ]
    },
    {
      "cell_type": "code",
      "source": [
        "X_test_scaled = scaler.transform(X_test)\n",
        "\n",
        "# ... and perform a predicition\n",
        "y_test_pred = final_clf.predict(X_test_scaled)"
      ],
      "metadata": {
        "id": "0iWhAgALL48c"
      },
      "execution_count": null,
      "outputs": []
    },
    {
      "cell_type": "code",
      "source": [
        "from sklearn.metrics import confusion_matrix\n",
        "conf_mat = confusion_matrix(y_test, y_test_pred)\n",
        "\n",
        "print(conf_mat)\n",
        "\n",
        "# The order of the confusion matrix is:\n",
        "#     - true negative (top left, tn)\n",
        "#     - false positive (top right, fp)\n",
        "#     - false negative (bottom left, fn)\n",
        "#     - true positive (bottom right, tp)\n",
        "tn, fp, fn, tp = conf_mat.ravel()"
      ],
      "metadata": {
        "colab": {
          "base_uri": "https://localhost:8080/"
        },
        "id": "GIOIABFLL_KC",
        "outputId": "fc38d1c3-afbd-4a68-d462-4d4b015388be"
      },
      "execution_count": null,
      "outputs": [
        {
          "output_type": "stream",
          "name": "stdout",
          "text": [
            "[[213   6]\n",
            " [  3  45]]\n"
          ]
        }
      ]
    },
    {
      "cell_type": "code",
      "source": [
        "recall_score = round(sklearn.metrics.recall_score(y_test, y_test_pred), 3)\n",
        "print(f\"Recall Score: {recall_score}\")\n",
        "\n",
        "# Precision: ratio of correctly classified X Class spectra, considering the false positives\n",
        "# (precision = tp / (tp + fp))\n",
        "precision_score = round(sklearn.metrics.precision_score(y_test, y_test_pred), 3)\n",
        "print(f\"Precision Score: {precision_score}\")\n",
        "\n",
        "# A combined score\n",
        "f1_score = round(sklearn.metrics.f1_score(y_test, y_test_pred), 3)\n",
        "print(f\"F1 Score: {f1_score}\")"
      ],
      "metadata": {
        "colab": {
          "base_uri": "https://localhost:8080/"
        },
        "id": "uunZJruHMDLS",
        "outputId": "83ffd72e-31f6-48db-dfaa-8f2c995c39a2"
      },
      "execution_count": null,
      "outputs": [
        {
          "output_type": "stream",
          "name": "stdout",
          "text": [
            "Recall Score: 0.938\n",
            "Precision Score: 0.882\n",
            "F1 Score: 0.909\n"
          ]
        }
      ]
    }
  ]
}