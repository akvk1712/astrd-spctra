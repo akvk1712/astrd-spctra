{
  "cells": [
    {
      "cell_type": "code",
      "execution_count": null,
      "metadata": {
        "id": "WHMOW356MVcr"
      },
      "outputs": [],
      "source": [
        "import os\n",
        "\n",
        "# Import installed libraries\n",
        "import numpy as np\n",
        "import pandas as pd\n",
        "import sklearn\n",
        "\n",
        "from sklearn import preprocessing\n",
        "from sklearn import svm\n",
        "from sklearn.model_selection import GridSearchCV"
      ]
    },
    {
      "cell_type": "code",
      "execution_count": null,
      "metadata": {
        "colab": {
          "base_uri": "https://localhost:8080/"
        },
        "id": "ac1fLB6CM2re",
        "outputId": "8d7f1788-309a-4c87-86d4-45c24278da24"
      },
      "outputs": [
        {
          "name": "stdout",
          "output_type": "stream",
          "text": [
            "Mounted at /gdrive\n"
          ]
        }
      ],
      "source": [
        "try:\n",
        "    from google.colab import drive\n",
        "    drive.mount('/gdrive')\n",
        "    core_path = \"/path name/\"\n",
        "except ModuleNotFoundError:\n",
        "    core_path = \"\""
      ]
    },
    {
      "cell_type": "code",
      "execution_count": null,
      "metadata": {
        "id": "i531seX5N8e1"
      },
      "outputs": [],
      "source": [
        "asteroids_df = pd.read_pickle(os.path.join(core_path, \"data/lvl2/\", \"asteroids.pkl\"))\n"
      ]
    },
    {
      "cell_type": "code",
      "execution_count": null,
      "metadata": {
        "id": "dDd8T9KOSHD0"
      },
      "outputs": [],
      "source": [
        "asteroids_X = np.array([k[\"Reflectance_norm550nm\"].tolist() for k in asteroids_df[\"SpectrumDF\"]])\n",
        "asteroids_y = np.array(asteroids_df[\"Main_Group\"].to_list())"
      ]
    },
    {
      "cell_type": "code",
      "execution_count": null,
      "metadata": {
        "id": "ppm9pjG5SKPf"
      },
      "outputs": [],
      "source": [
        "from sklearn.model_selection import StratifiedShuffleSplit\n",
        "sss = StratifiedShuffleSplit(n_splits=1, test_size=0.2)\n",
        "\n",
        "# Create a simple, single train / test split\n",
        "for train_index, test_index in sss.split(asteroids_X, asteroids_y):\n",
        "\n",
        "    X_train, X_test = asteroids_X[train_index], asteroids_X[test_index]\n",
        "    y_train, y_test = asteroids_y[train_index], asteroids_y[test_index]\n",
        "\n",
        "# Compute class weightnings\n",
        "weight_dict = {}\n",
        "for ast_type in np.unique(y_train):\n",
        "    weight_dict[ast_type] = int(1.0 / (len(y_train[y_train == ast_type]) / (len(y_train))))"
      ]
    },
    {
      "cell_type": "code",
      "execution_count": null,
      "metadata": {
        "colab": {
          "background_save": true,
          "base_uri": "https://localhost:8080/"
        },
        "id": "eQ6GS4dqSTF3",
        "outputId": "48ec613c-2477-49c6-c883-ce9caf9a1d8b"
      },
      "outputs": [
        {
          "name": "stdout",
          "output_type": "stream",
          "text": [
            "Fitting 5 folds for each of 50 candidates, totalling 250 fits\n",
            "[CV 1/5] END ..............C=1.0, kernel=linear;, score=0.830 total time=   0.3s\n",
            "[CV 2/5] END ..............C=1.0, kernel=linear;, score=0.861 total time=   0.3s\n",
            "[CV 3/5] END ..............C=1.0, kernel=linear;, score=0.828 total time=   0.2s\n",
            "[CV 4/5] END ..............C=1.0, kernel=linear;, score=0.823 total time=   0.1s\n",
            "[CV 5/5] END ..............C=1.0, kernel=linear;, score=0.834 total time=   0.2s\n",
            "[CV 1/5] END C=1.3990503141372939, kernel=linear;, score=0.828 total time=   0.3s\n",
            "[CV 2/5] END C=1.3990503141372939, kernel=linear;, score=0.853 total time=   0.4s\n",
            "[CV 3/5] END C=1.3990503141372939, kernel=linear;, score=0.816 total time=   0.3s\n",
            "[CV 4/5] END C=1.3990503141372939, kernel=linear;, score=0.827 total time=   0.2s\n",
            "[CV 5/5] END C=1.3990503141372939, kernel=linear;, score=0.834 total time=   0.3s\n",
            "[CV 1/5] END C=1.9573417814876604, kernel=linear;, score=0.837 total time=   0.4s\n",
            "[CV 2/5] END C=1.9573417814876604, kernel=linear;, score=0.857 total time=   0.2s\n",
            "[CV 3/5] END C=1.9573417814876604, kernel=linear;, score=0.820 total time=   0.3s\n",
            "[CV 4/5] END C=1.9573417814876604, kernel=linear;, score=0.832 total time=   0.2s\n",
            "[CV 5/5] END C=1.9573417814876604, kernel=linear;, score=0.847 total time=   0.2s\n",
            "[CV 1/5] END C=2.7384196342643614, kernel=linear;, score=0.849 total time=   0.4s\n",
            "[CV 2/5] END C=2.7384196342643614, kernel=linear;, score=0.861 total time=   0.3s\n",
            "[CV 3/5] END C=2.7384196342643614, kernel=linear;, score=0.820 total time=   0.2s\n",
            "[CV 4/5] END C=2.7384196342643614, kernel=linear;, score=0.828 total time=   0.3s\n",
            "[CV 5/5] END C=2.7384196342643614, kernel=linear;, score=0.860 total time=   0.2s\n",
            "[CV 1/5] END C=3.831186849557288, kernel=linear;, score=0.847 total time=   0.2s\n",
            "[CV 2/5] END C=3.831186849557288, kernel=linear;, score=0.852 total time=   0.2s\n",
            "[CV 3/5] END C=3.831186849557288, kernel=linear;, score=0.833 total time=   0.1s\n",
            "[CV 4/5] END C=3.831186849557288, kernel=linear;, score=0.823 total time=   0.2s\n",
            "[CV 5/5] END C=3.831186849557288, kernel=linear;, score=0.859 total time=   0.2s\n",
            "[CV 1/5] END C=5.360023165391793, kernel=linear;, score=0.845 total time=   0.2s\n",
            "[CV 2/5] END C=5.360023165391793, kernel=linear;, score=0.857 total time=   0.2s\n",
            "[CV 3/5] END C=5.360023165391793, kernel=linear;, score=0.833 total time=   0.2s\n",
            "[CV 4/5] END C=5.360023165391793, kernel=linear;, score=0.823 total time=   0.2s\n",
            "[CV 5/5] END C=5.360023165391793, kernel=linear;, score=0.859 total time=   0.2s\n",
            "[CV 1/5] END C=7.498942093324558, kernel=linear;, score=0.849 total time=   0.3s\n",
            "[CV 2/5] END C=7.498942093324558, kernel=linear;, score=0.843 total time=   0.5s\n",
            "[CV 3/5] END C=7.498942093324558, kernel=linear;, score=0.837 total time=   0.3s\n",
            "[CV 4/5] END C=7.498942093324558, kernel=linear;, score=0.814 total time=   0.3s\n",
            "[CV 5/5] END C=7.498942093324558, kernel=linear;, score=0.854 total time=   0.3s\n",
            "[CV 1/5] END C=10.491397291363102, kernel=linear;, score=0.858 total time=   0.4s\n",
            "[CV 2/5] END C=10.491397291363102, kernel=linear;, score=0.843 total time=   1.0s\n",
            "[CV 3/5] END C=10.491397291363102, kernel=linear;, score=0.841 total time=   1.4s\n",
            "[CV 4/5] END C=10.491397291363102, kernel=linear;, score=0.809 total time=   3.0s\n",
            "[CV 5/5] END C=10.491397291363102, kernel=linear;, score=0.859 total time=   1.0s\n",
            "[CV 1/5] END C=14.677992676220699, kernel=linear;, score=0.858 total time=   1.1s\n",
            "[CV 2/5] END C=14.677992676220699, kernel=linear;, score=0.835 total time=   0.5s\n",
            "[CV 3/5] END C=14.677992676220699, kernel=linear;, score=0.841 total time=   0.5s\n",
            "[CV 4/5] END C=14.677992676220699, kernel=linear;, score=0.814 total time=   0.7s\n",
            "[CV 5/5] END C=14.677992676220699, kernel=linear;, score=0.854 total time=   0.6s\n",
            "[CV 1/5] END C=20.53525026457146, kernel=linear;, score=0.863 total time=   0.8s\n",
            "[CV 2/5] END C=20.53525026457146, kernel=linear;, score=0.839 total time=   0.7s\n",
            "[CV 3/5] END C=20.53525026457146, kernel=linear;, score=0.846 total time=   0.9s\n",
            "[CV 4/5] END C=20.53525026457146, kernel=linear;, score=0.814 total time=   1.3s\n",
            "[CV 5/5] END C=20.53525026457146, kernel=linear;, score=0.854 total time=   2.0s\n",
            "[CV 1/5] END C=28.729848333536655, kernel=linear;, score=0.859 total time=   4.1s\n",
            "[CV 2/5] END C=28.729848333536655, kernel=linear;, score=0.839 total time=   1.5s\n",
            "[CV 3/5] END C=28.729848333536655, kernel=linear;, score=0.842 total time=   1.0s\n",
            "[CV 4/5] END C=28.729848333536655, kernel=linear;, score=0.818 total time=   1.0s\n",
            "[CV 5/5] END C=28.729848333536655, kernel=linear;, score=0.841 total time=   1.2s\n",
            "[CV 1/5] END C=40.19450333615126, kernel=linear;, score=0.863 total time=   2.5s\n",
            "[CV 2/5] END C=40.19450333615126, kernel=linear;, score=0.842 total time=   2.3s\n",
            "[CV 3/5] END C=40.19450333615126, kernel=linear;, score=0.838 total time=   1.6s\n",
            "[CV 4/5] END C=40.19450333615126, kernel=linear;, score=0.818 total time=   3.8s\n",
            "[CV 5/5] END C=40.19450333615126, kernel=linear;, score=0.845 total time=   2.0s\n",
            "[CV 1/5] END C=56.23413251903491, kernel=linear;, score=0.854 total time=   1.9s\n",
            "[CV 2/5] END C=56.23413251903491, kernel=linear;, score=0.847 total time=   2.3s\n",
            "[CV 3/5] END C=56.23413251903491, kernel=linear;, score=0.834 total time=   1.7s\n",
            "[CV 4/5] END C=56.23413251903491, kernel=linear;, score=0.821 total time=   4.9s\n",
            "[CV 5/5] END C=56.23413251903491, kernel=linear;, score=0.854 total time=   5.7s\n",
            "[CV 1/5] END C=78.67438076599402, kernel=linear;, score=0.858 total time=   3.2s\n",
            "[CV 2/5] END C=78.67438076599402, kernel=linear;, score=0.838 total time=   2.9s\n",
            "[CV 3/5] END C=78.67438076599402, kernel=linear;, score=0.842 total time=   5.1s\n",
            "[CV 4/5] END C=78.67438076599402, kernel=linear;, score=0.821 total time=   3.8s\n",
            "[CV 5/5] END C=78.67438076599402, kernel=linear;, score=0.862 total time=   4.0s\n",
            "[CV 1/5] END C=110.06941712522104, kernel=linear;, score=0.856 total time=   6.9s\n",
            "[CV 2/5] END C=110.06941712522104, kernel=linear;, score=0.830 total time=   7.5s\n",
            "[CV 3/5] END C=110.06941712522104, kernel=linear;, score=0.842 total time=   8.2s\n",
            "[CV 4/5] END C=110.06941712522104, kernel=linear;, score=0.826 total time=   4.4s\n",
            "[CV 5/5] END C=110.06941712522104, kernel=linear;, score=0.858 total time=  15.4s\n",
            "[CV 1/5] END C=153.9926526059492, kernel=linear;, score=0.848 total time=   9.0s\n",
            "[CV 2/5] END C=153.9926526059492, kernel=linear;, score=0.834 total time=   8.9s\n",
            "[CV 3/5] END C=153.9926526059492, kernel=linear;, score=0.854 total time=   7.5s\n",
            "[CV 4/5] END C=153.9926526059492, kernel=linear;, score=0.835 total time=  13.5s\n",
            "[CV 5/5] END C=153.9926526059492, kernel=linear;, score=0.866 total time=   5.8s\n",
            "[CV 1/5] END C=215.44346900318845, kernel=linear;, score=0.839 total time=  10.2s\n",
            "[CV 2/5] END C=215.44346900318845, kernel=linear;, score=0.821 total time=  14.9s\n",
            "[CV 3/5] END C=215.44346900318845, kernel=linear;, score=0.850 total time=   9.3s\n",
            "[CV 4/5] END C=215.44346900318845, kernel=linear;, score=0.839 total time=  12.3s\n",
            "[CV 5/5] END C=215.44346900318845, kernel=linear;, score=0.871 total time=  10.7s\n",
            "[CV 1/5] END C=301.4162529877392, kernel=linear;, score=0.844 total time=  13.8s\n",
            "[CV 2/5] END C=301.4162529877392, kernel=linear;, score=0.812 total time=  14.3s\n",
            "[CV 3/5] END C=301.4162529877392, kernel=linear;, score=0.850 total time=  12.2s\n",
            "[CV 4/5] END C=301.4162529877392, kernel=linear;, score=0.848 total time=  19.6s\n",
            "[CV 5/5] END C=301.4162529877392, kernel=linear;, score=0.866 total time=  16.5s\n",
            "[CV 1/5] END C=421.6965034285823, kernel=linear;, score=0.847 total time=  22.3s\n",
            "[CV 2/5] END C=421.6965034285823, kernel=linear;, score=0.812 total time=  34.2s\n",
            "[CV 3/5] END C=421.6965034285823, kernel=linear;, score=0.846 total time=  22.3s\n",
            "[CV 4/5] END C=421.6965034285823, kernel=linear;, score=0.839 total time=  31.3s\n",
            "[CV 5/5] END C=421.6965034285823, kernel=linear;, score=0.857 total time=  32.8s\n",
            "[CV 1/5] END C=589.9746255923566, kernel=linear;, score=0.851 total time=  38.2s\n",
            "[CV 2/5] END C=589.9746255923566, kernel=linear;, score=0.825 total time=  50.6s\n",
            "[CV 3/5] END C=589.9746255923566, kernel=linear;, score=0.838 total time=  25.4s\n",
            "[CV 4/5] END C=589.9746255923566, kernel=linear;, score=0.843 total time=  49.6s\n",
            "[CV 5/5] END C=589.9746255923566, kernel=linear;, score=0.853 total time=  24.8s\n",
            "[CV 1/5] END .C=825.404185268019, kernel=linear;, score=0.847 total time=  47.6s\n",
            "[CV 2/5] END .C=825.404185268019, kernel=linear;, score=0.812 total time=  42.4s\n",
            "[CV 3/5] END .C=825.404185268019, kernel=linear;, score=0.838 total time= 1.0min\n",
            "[CV 4/5] END .C=825.404185268019, kernel=linear;, score=0.843 total time= 1.1min\n",
            "[CV 5/5] END .C=825.404185268019, kernel=linear;, score=0.848 total time=  37.6s\n",
            "[CV 1/5] END C=1154.781984689458, kernel=linear;, score=0.847 total time= 1.0min\n",
            "[CV 2/5] END C=1154.781984689458, kernel=linear;, score=0.820 total time= 1.2min\n",
            "[CV 3/5] END C=1154.781984689458, kernel=linear;, score=0.830 total time= 1.1min\n",
            "[CV 4/5] END C=1154.781984689458, kernel=linear;, score=0.839 total time= 1.6min\n",
            "[CV 5/5] END C=1154.781984689458, kernel=linear;, score=0.852 total time= 1.1min\n",
            "[CV 1/5] END C=1615.5980984398745, kernel=linear;, score=0.843 total time= 1.7min\n",
            "[CV 2/5] END C=1615.5980984398745, kernel=linear;, score=0.824 total time= 1.8min\n",
            "[CV 3/5] END C=1615.5980984398745, kernel=linear;, score=0.828 total time= 1.1min\n",
            "[CV 4/5] END C=1615.5980984398745, kernel=linear;, score=0.835 total time= 2.2min\n",
            "[CV 5/5] END C=1615.5980984398745, kernel=linear;, score=0.839 total time= 1.2min\n",
            "[CV 1/5] END C=2260.3030271419216, kernel=linear;, score=0.843 total time= 3.9min\n",
            "[CV 2/5] END C=2260.3030271419216, kernel=linear;, score=0.837 total time= 2.7min\n",
            "[CV 3/5] END C=2260.3030271419216, kernel=linear;, score=0.816 total time= 2.2min\n",
            "[CV 4/5] END C=2260.3030271419216, kernel=linear;, score=0.843 total time= 3.0min\n",
            "[CV 5/5] END C=2260.3030271419216, kernel=linear;, score=0.849 total time= 2.6min\n",
            "[CV 1/5] END C=3162.2776601683795, kernel=linear;, score=0.839 total time= 3.2min\n",
            "[CV 2/5] END C=3162.2776601683795, kernel=linear;, score=0.828 total time= 4.3min\n",
            "[CV 3/5] END C=3162.2776601683795, kernel=linear;, score=0.811 total time= 2.5min\n",
            "[CV 4/5] END C=3162.2776601683795, kernel=linear;, score=0.847 total time= 4.6min\n",
            "[CV 5/5] END C=3162.2776601683795, kernel=linear;, score=0.848 total time= 2.6min\n",
            "[CV 1/5] END .................C=1.0, kernel=rbf;, score=0.963 total time=   0.0s\n",
            "[CV 2/5] END .................C=1.0, kernel=rbf;, score=0.954 total time=   0.0s\n",
            "[CV 3/5] END .................C=1.0, kernel=rbf;, score=0.937 total time=   0.0s\n",
            "[CV 4/5] END .................C=1.0, kernel=rbf;, score=0.967 total time=   0.0s\n",
            "[CV 5/5] END .................C=1.0, kernel=rbf;, score=0.977 total time=   0.0s\n",
            "[CV 1/5] END ..C=1.3990503141372939, kernel=rbf;, score=0.963 total time=   0.0s\n",
            "[CV 2/5] END ..C=1.3990503141372939, kernel=rbf;, score=0.958 total time=   0.0s\n",
            "[CV 3/5] END ..C=1.3990503141372939, kernel=rbf;, score=0.937 total time=   0.0s\n",
            "[CV 4/5] END ..C=1.3990503141372939, kernel=rbf;, score=0.954 total time=   0.0s\n",
            "[CV 5/5] END ..C=1.3990503141372939, kernel=rbf;, score=0.981 total time=   0.0s\n",
            "[CV 1/5] END ..C=1.9573417814876604, kernel=rbf;, score=0.967 total time=   0.0s\n",
            "[CV 2/5] END ..C=1.9573417814876604, kernel=rbf;, score=0.958 total time=   0.0s\n",
            "[CV 3/5] END ..C=1.9573417814876604, kernel=rbf;, score=0.937 total time=   0.0s\n",
            "[CV 4/5] END ..C=1.9573417814876604, kernel=rbf;, score=0.958 total time=   0.0s\n",
            "[CV 5/5] END ..C=1.9573417814876604, kernel=rbf;, score=0.981 total time=   0.0s\n",
            "[CV 1/5] END ..C=2.7384196342643614, kernel=rbf;, score=0.967 total time=   0.0s\n",
            "[CV 2/5] END ..C=2.7384196342643614, kernel=rbf;, score=0.954 total time=   0.0s\n",
            "[CV 3/5] END ..C=2.7384196342643614, kernel=rbf;, score=0.950 total time=   0.0s\n",
            "[CV 4/5] END ..C=2.7384196342643614, kernel=rbf;, score=0.953 total time=   0.0s\n",
            "[CV 5/5] END ..C=2.7384196342643614, kernel=rbf;, score=0.981 total time=   0.0s\n",
            "[CV 1/5] END ...C=3.831186849557288, kernel=rbf;, score=0.962 total time=   0.0s\n",
            "[CV 2/5] END ...C=3.831186849557288, kernel=rbf;, score=0.949 total time=   0.0s\n",
            "[CV 3/5] END ...C=3.831186849557288, kernel=rbf;, score=0.936 total time=   0.0s\n",
            "[CV 4/5] END ...C=3.831186849557288, kernel=rbf;, score=0.958 total time=   0.0s\n",
            "[CV 5/5] END ...C=3.831186849557288, kernel=rbf;, score=0.977 total time=   0.0s\n",
            "[CV 1/5] END ...C=5.360023165391793, kernel=rbf;, score=0.962 total time=   0.0s\n",
            "[CV 2/5] END ...C=5.360023165391793, kernel=rbf;, score=0.963 total time=   0.0s\n",
            "[CV 3/5] END ...C=5.360023165391793, kernel=rbf;, score=0.941 total time=   0.0s\n",
            "[CV 4/5] END ...C=5.360023165391793, kernel=rbf;, score=0.958 total time=   0.0s\n",
            "[CV 5/5] END ...C=5.360023165391793, kernel=rbf;, score=0.977 total time=   0.0s\n",
            "[CV 1/5] END ...C=7.498942093324558, kernel=rbf;, score=0.967 total time=   0.0s\n",
            "[CV 2/5] END ...C=7.498942093324558, kernel=rbf;, score=0.962 total time=   0.0s\n",
            "[CV 3/5] END ...C=7.498942093324558, kernel=rbf;, score=0.941 total time=   0.0s\n",
            "[CV 4/5] END ...C=7.498942093324558, kernel=rbf;, score=0.958 total time=   0.0s\n",
            "[CV 5/5] END ...C=7.498942093324558, kernel=rbf;, score=0.977 total time=   0.0s\n",
            "[CV 1/5] END ..C=10.491397291363102, kernel=rbf;, score=0.962 total time=   0.0s\n",
            "[CV 2/5] END ..C=10.491397291363102, kernel=rbf;, score=0.962 total time=   0.0s\n",
            "[CV 3/5] END ..C=10.491397291363102, kernel=rbf;, score=0.941 total time=   0.0s\n",
            "[CV 4/5] END ..C=10.491397291363102, kernel=rbf;, score=0.953 total time=   0.0s\n",
            "[CV 5/5] END ..C=10.491397291363102, kernel=rbf;, score=0.981 total time=   0.0s\n",
            "[CV 1/5] END ..C=14.677992676220699, kernel=rbf;, score=0.962 total time=   0.0s\n",
            "[CV 2/5] END ..C=14.677992676220699, kernel=rbf;, score=0.958 total time=   0.0s\n",
            "[CV 3/5] END ..C=14.677992676220699, kernel=rbf;, score=0.941 total time=   0.0s\n",
            "[CV 4/5] END ..C=14.677992676220699, kernel=rbf;, score=0.958 total time=   0.0s\n",
            "[CV 5/5] END ..C=14.677992676220699, kernel=rbf;, score=0.981 total time=   0.0s\n",
            "[CV 1/5] END ...C=20.53525026457146, kernel=rbf;, score=0.962 total time=   0.0s\n",
            "[CV 2/5] END ...C=20.53525026457146, kernel=rbf;, score=0.948 total time=   0.0s\n",
            "[CV 3/5] END ...C=20.53525026457146, kernel=rbf;, score=0.941 total time=   0.0s\n",
            "[CV 4/5] END ...C=20.53525026457146, kernel=rbf;, score=0.953 total time=   0.0s\n",
            "[CV 5/5] END ...C=20.53525026457146, kernel=rbf;, score=0.981 total time=   0.0s\n",
            "[CV 1/5] END ..C=28.729848333536655, kernel=rbf;, score=0.962 total time=   0.0s\n",
            "[CV 2/5] END ..C=28.729848333536655, kernel=rbf;, score=0.948 total time=   0.0s\n",
            "[CV 3/5] END ..C=28.729848333536655, kernel=rbf;, score=0.941 total time=   0.0s\n",
            "[CV 4/5] END ..C=28.729848333536655, kernel=rbf;, score=0.949 total time=   0.0s\n",
            "[CV 5/5] END ..C=28.729848333536655, kernel=rbf;, score=0.981 total time=   0.0s\n",
            "[CV 1/5] END ...C=40.19450333615126, kernel=rbf;, score=0.967 total time=   0.0s\n",
            "[CV 2/5] END ...C=40.19450333615126, kernel=rbf;, score=0.948 total time=   0.0s\n",
            "[CV 3/5] END ...C=40.19450333615126, kernel=rbf;, score=0.940 total time=   0.0s\n",
            "[CV 4/5] END ...C=40.19450333615126, kernel=rbf;, score=0.949 total time=   0.0s\n",
            "[CV 5/5] END ...C=40.19450333615126, kernel=rbf;, score=0.976 total time=   0.0s\n",
            "[CV 1/5] END ...C=56.23413251903491, kernel=rbf;, score=0.967 total time=   0.0s\n",
            "[CV 2/5] END ...C=56.23413251903491, kernel=rbf;, score=0.948 total time=   0.0s\n",
            "[CV 3/5] END ...C=56.23413251903491, kernel=rbf;, score=0.940 total time=   0.0s\n",
            "[CV 4/5] END ...C=56.23413251903491, kernel=rbf;, score=0.953 total time=   0.0s\n",
            "[CV 5/5] END ...C=56.23413251903491, kernel=rbf;, score=0.971 total time=   0.0s\n",
            "[CV 1/5] END ...C=78.67438076599402, kernel=rbf;, score=0.967 total time=   0.0s\n",
            "[CV 2/5] END ...C=78.67438076599402, kernel=rbf;, score=0.948 total time=   0.0s\n",
            "[CV 3/5] END ...C=78.67438076599402, kernel=rbf;, score=0.945 total time=   0.0s\n",
            "[CV 4/5] END ...C=78.67438076599402, kernel=rbf;, score=0.953 total time=   0.0s\n",
            "[CV 5/5] END ...C=78.67438076599402, kernel=rbf;, score=0.976 total time=   0.0s\n",
            "[CV 1/5] END ..C=110.06941712522104, kernel=rbf;, score=0.967 total time=   0.0s\n",
            "[CV 2/5] END ..C=110.06941712522104, kernel=rbf;, score=0.957 total time=   0.0s\n",
            "[CV 3/5] END ..C=110.06941712522104, kernel=rbf;, score=0.945 total time=   0.0s\n",
            "[CV 4/5] END ..C=110.06941712522104, kernel=rbf;, score=0.958 total time=   0.0s\n",
            "[CV 5/5] END ..C=110.06941712522104, kernel=rbf;, score=0.976 total time=   0.0s\n",
            "[CV 1/5] END ...C=153.9926526059492, kernel=rbf;, score=0.962 total time=   0.0s\n",
            "[CV 2/5] END ...C=153.9926526059492, kernel=rbf;, score=0.957 total time=   0.0s\n",
            "[CV 3/5] END ...C=153.9926526059492, kernel=rbf;, score=0.945 total time=   0.0s\n",
            "[CV 4/5] END ...C=153.9926526059492, kernel=rbf;, score=0.963 total time=   0.0s\n",
            "[CV 5/5] END ...C=153.9926526059492, kernel=rbf;, score=0.976 total time=   0.0s\n",
            "[CV 1/5] END ..C=215.44346900318845, kernel=rbf;, score=0.953 total time=   0.0s\n",
            "[CV 2/5] END ..C=215.44346900318845, kernel=rbf;, score=0.957 total time=   0.0s\n",
            "[CV 3/5] END ..C=215.44346900318845, kernel=rbf;, score=0.949 total time=   0.0s\n",
            "[CV 4/5] END ..C=215.44346900318845, kernel=rbf;, score=0.963 total time=   0.0s\n",
            "[CV 5/5] END ..C=215.44346900318845, kernel=rbf;, score=0.976 total time=   0.0s\n",
            "[CV 1/5] END ...C=301.4162529877392, kernel=rbf;, score=0.957 total time=   0.0s\n",
            "[CV 2/5] END ...C=301.4162529877392, kernel=rbf;, score=0.957 total time=   0.0s\n",
            "[CV 3/5] END ...C=301.4162529877392, kernel=rbf;, score=0.945 total time=   0.0s\n",
            "[CV 4/5] END ...C=301.4162529877392, kernel=rbf;, score=0.963 total time=   0.0s\n",
            "[CV 5/5] END ...C=301.4162529877392, kernel=rbf;, score=0.976 total time=   0.0s\n",
            "[CV 1/5] END ...C=421.6965034285823, kernel=rbf;, score=0.953 total time=   0.0s\n",
            "[CV 2/5] END ...C=421.6965034285823, kernel=rbf;, score=0.957 total time=   0.0s\n",
            "[CV 3/5] END ...C=421.6965034285823, kernel=rbf;, score=0.940 total time=   0.0s\n",
            "[CV 4/5] END ...C=421.6965034285823, kernel=rbf;, score=0.963 total time=   0.0s\n",
            "[CV 5/5] END ...C=421.6965034285823, kernel=rbf;, score=0.976 total time=   0.0s\n",
            "[CV 1/5] END ...C=589.9746255923566, kernel=rbf;, score=0.953 total time=   0.0s\n",
            "[CV 2/5] END ...C=589.9746255923566, kernel=rbf;, score=0.957 total time=   0.0s\n",
            "[CV 3/5] END ...C=589.9746255923566, kernel=rbf;, score=0.940 total time=   0.0s\n",
            "[CV 4/5] END ...C=589.9746255923566, kernel=rbf;, score=0.963 total time=   0.0s\n",
            "[CV 5/5] END ...C=589.9746255923566, kernel=rbf;, score=0.976 total time=   0.0s\n",
            "[CV 1/5] END ....C=825.404185268019, kernel=rbf;, score=0.953 total time=   0.0s\n",
            "[CV 2/5] END ....C=825.404185268019, kernel=rbf;, score=0.957 total time=   0.0s\n",
            "[CV 3/5] END ....C=825.404185268019, kernel=rbf;, score=0.940 total time=   0.0s\n",
            "[CV 4/5] END ....C=825.404185268019, kernel=rbf;, score=0.963 total time=   0.0s\n",
            "[CV 5/5] END ....C=825.404185268019, kernel=rbf;, score=0.976 total time=   0.0s\n",
            "[CV 1/5] END ...C=1154.781984689458, kernel=rbf;, score=0.953 total time=   0.0s\n",
            "[CV 2/5] END ...C=1154.781984689458, kernel=rbf;, score=0.957 total time=   0.0s\n",
            "[CV 3/5] END ...C=1154.781984689458, kernel=rbf;, score=0.940 total time=   0.0s\n",
            "[CV 4/5] END ...C=1154.781984689458, kernel=rbf;, score=0.963 total time=   0.0s\n",
            "[CV 5/5] END ...C=1154.781984689458, kernel=rbf;, score=0.976 total time=   0.0s\n",
            "[CV 1/5] END ..C=1615.5980984398745, kernel=rbf;, score=0.953 total time=   0.0s\n",
            "[CV 2/5] END ..C=1615.5980984398745, kernel=rbf;, score=0.957 total time=   0.0s\n",
            "[CV 3/5] END ..C=1615.5980984398745, kernel=rbf;, score=0.940 total time=   0.0s\n",
            "[CV 4/5] END ..C=1615.5980984398745, kernel=rbf;, score=0.963 total time=   0.0s\n",
            "[CV 5/5] END ..C=1615.5980984398745, kernel=rbf;, score=0.976 total time=   0.0s\n",
            "[CV 1/5] END ..C=2260.3030271419216, kernel=rbf;, score=0.953 total time=   0.0s\n",
            "[CV 2/5] END ..C=2260.3030271419216, kernel=rbf;, score=0.957 total time=   0.0s\n",
            "[CV 3/5] END ..C=2260.3030271419216, kernel=rbf;, score=0.940 total time=   0.0s\n",
            "[CV 4/5] END ..C=2260.3030271419216, kernel=rbf;, score=0.963 total time=   0.0s\n",
            "[CV 5/5] END ..C=2260.3030271419216, kernel=rbf;, score=0.976 total time=   0.0s\n",
            "[CV 1/5] END ..C=3162.2776601683795, kernel=rbf;, score=0.953 total time=   0.0s\n",
            "[CV 2/5] END ..C=3162.2776601683795, kernel=rbf;, score=0.957 total time=   0.0s\n",
            "[CV 3/5] END ..C=3162.2776601683795, kernel=rbf;, score=0.940 total time=   0.0s\n",
            "[CV 4/5] END ..C=3162.2776601683795, kernel=rbf;, score=0.963 total time=   0.0s\n",
            "[CV 5/5] END ..C=3162.2776601683795, kernel=rbf;, score=0.976 total time=   0.0s\n"
          ]
        },
        {
          "data": {
            "text/html": [
              "<style>#sk-container-id-1 {color: black;background-color: white;}#sk-container-id-1 pre{padding: 0;}#sk-container-id-1 div.sk-toggleable {background-color: white;}#sk-container-id-1 label.sk-toggleable__label {cursor: pointer;display: block;width: 100%;margin-bottom: 0;padding: 0.3em;box-sizing: border-box;text-align: center;}#sk-container-id-1 label.sk-toggleable__label-arrow:before {content: \"▸\";float: left;margin-right: 0.25em;color: #696969;}#sk-container-id-1 label.sk-toggleable__label-arrow:hover:before {color: black;}#sk-container-id-1 div.sk-estimator:hover label.sk-toggleable__label-arrow:before {color: black;}#sk-container-id-1 div.sk-toggleable__content {max-height: 0;max-width: 0;overflow: hidden;text-align: left;background-color: #f0f8ff;}#sk-container-id-1 div.sk-toggleable__content pre {margin: 0.2em;color: black;border-radius: 0.25em;background-color: #f0f8ff;}#sk-container-id-1 input.sk-toggleable__control:checked~div.sk-toggleable__content {max-height: 200px;max-width: 100%;overflow: auto;}#sk-container-id-1 input.sk-toggleable__control:checked~label.sk-toggleable__label-arrow:before {content: \"▾\";}#sk-container-id-1 div.sk-estimator input.sk-toggleable__control:checked~label.sk-toggleable__label {background-color: #d4ebff;}#sk-container-id-1 div.sk-label input.sk-toggleable__control:checked~label.sk-toggleable__label {background-color: #d4ebff;}#sk-container-id-1 input.sk-hidden--visually {border: 0;clip: rect(1px 1px 1px 1px);clip: rect(1px, 1px, 1px, 1px);height: 1px;margin: -1px;overflow: hidden;padding: 0;position: absolute;width: 1px;}#sk-container-id-1 div.sk-estimator {font-family: monospace;background-color: #f0f8ff;border: 1px dotted black;border-radius: 0.25em;box-sizing: border-box;margin-bottom: 0.5em;}#sk-container-id-1 div.sk-estimator:hover {background-color: #d4ebff;}#sk-container-id-1 div.sk-parallel-item::after {content: \"\";width: 100%;border-bottom: 1px solid gray;flex-grow: 1;}#sk-container-id-1 div.sk-label:hover label.sk-toggleable__label {background-color: #d4ebff;}#sk-container-id-1 div.sk-serial::before {content: \"\";position: absolute;border-left: 1px solid gray;box-sizing: border-box;top: 0;bottom: 0;left: 50%;z-index: 0;}#sk-container-id-1 div.sk-serial {display: flex;flex-direction: column;align-items: center;background-color: white;padding-right: 0.2em;padding-left: 0.2em;position: relative;}#sk-container-id-1 div.sk-item {position: relative;z-index: 1;}#sk-container-id-1 div.sk-parallel {display: flex;align-items: stretch;justify-content: center;background-color: white;position: relative;}#sk-container-id-1 div.sk-item::before, #sk-container-id-1 div.sk-parallel-item::before {content: \"\";position: absolute;border-left: 1px solid gray;box-sizing: border-box;top: 0;bottom: 0;left: 50%;z-index: -1;}#sk-container-id-1 div.sk-parallel-item {display: flex;flex-direction: column;z-index: 1;position: relative;background-color: white;}#sk-container-id-1 div.sk-parallel-item:first-child::after {align-self: flex-end;width: 50%;}#sk-container-id-1 div.sk-parallel-item:last-child::after {align-self: flex-start;width: 50%;}#sk-container-id-1 div.sk-parallel-item:only-child::after {width: 0;}#sk-container-id-1 div.sk-dashed-wrapped {border: 1px dashed gray;margin: 0 0.4em 0.5em 0.4em;box-sizing: border-box;padding-bottom: 0.4em;background-color: white;}#sk-container-id-1 div.sk-label label {font-family: monospace;font-weight: bold;display: inline-block;line-height: 1.2em;}#sk-container-id-1 div.sk-label-container {text-align: center;}#sk-container-id-1 div.sk-container {/* jupyter's `normalize.less` sets `[hidden] { display: none; }` but bootstrap.min.css set `[hidden] { display: none !important; }` so we also need the `!important` here to be able to override the default hidden behavior on the sphinx rendered scikit-learn.org. See: https://github.com/scikit-learn/scikit-learn/issues/21755 */display: inline-block !important;position: relative;}#sk-container-id-1 div.sk-text-repr-fallback {display: none;}</style><div id=\"sk-container-id-1\" class=\"sk-top-container\"><div class=\"sk-text-repr-fallback\"><pre>GridSearchCV(cv=5,\n",
              "             estimator=SVC(class_weight={&#x27;C&#x27;: 3, &#x27;Other&#x27;: 8, &#x27;S&#x27;: 2, &#x27;X&#x27;: 5}),\n",
              "             param_grid=[{&#x27;C&#x27;: array([1.00000000e+00, 1.39905031e+00, 1.95734178e+00, 2.73841963e+00,\n",
              "       3.83118685e+00, 5.36002317e+00, 7.49894209e+00, 1.04913973e+01,\n",
              "       1.46779927e+01, 2.05352503e+01, 2.87298483e+01, 4.01945033e+01,\n",
              "       5.62341325e+01, 7.86743808e+01, 1.10069417e+02, 1.53992653e+02,\n",
              "       2.15443469...\n",
              "       3.83118685e+00, 5.36002317e+00, 7.49894209e+00, 1.04913973e+01,\n",
              "       1.46779927e+01, 2.05352503e+01, 2.87298483e+01, 4.01945033e+01,\n",
              "       5.62341325e+01, 7.86743808e+01, 1.10069417e+02, 1.53992653e+02,\n",
              "       2.15443469e+02, 3.01416253e+02, 4.21696503e+02, 5.89974626e+02,\n",
              "       8.25404185e+02, 1.15478198e+03, 1.61559810e+03, 2.26030303e+03,\n",
              "       3.16227766e+03]),\n",
              "                          &#x27;kernel&#x27;: [&#x27;rbf&#x27;]}],\n",
              "             scoring=make_scorer(f1_score, average=weighted), verbose=3)</pre><b>In a Jupyter environment, please rerun this cell to show the HTML representation or trust the notebook. <br />On GitHub, the HTML representation is unable to render, please try loading this page with nbviewer.org.</b></div><div class=\"sk-container\" hidden><div class=\"sk-item sk-dashed-wrapped\"><div class=\"sk-label-container\"><div class=\"sk-label sk-toggleable\"><input class=\"sk-toggleable__control sk-hidden--visually\" id=\"sk-estimator-id-1\" type=\"checkbox\" ><label for=\"sk-estimator-id-1\" class=\"sk-toggleable__label sk-toggleable__label-arrow\">GridSearchCV</label><div class=\"sk-toggleable__content\"><pre>GridSearchCV(cv=5,\n",
              "             estimator=SVC(class_weight={&#x27;C&#x27;: 3, &#x27;Other&#x27;: 8, &#x27;S&#x27;: 2, &#x27;X&#x27;: 5}),\n",
              "             param_grid=[{&#x27;C&#x27;: array([1.00000000e+00, 1.39905031e+00, 1.95734178e+00, 2.73841963e+00,\n",
              "       3.83118685e+00, 5.36002317e+00, 7.49894209e+00, 1.04913973e+01,\n",
              "       1.46779927e+01, 2.05352503e+01, 2.87298483e+01, 4.01945033e+01,\n",
              "       5.62341325e+01, 7.86743808e+01, 1.10069417e+02, 1.53992653e+02,\n",
              "       2.15443469...\n",
              "       3.83118685e+00, 5.36002317e+00, 7.49894209e+00, 1.04913973e+01,\n",
              "       1.46779927e+01, 2.05352503e+01, 2.87298483e+01, 4.01945033e+01,\n",
              "       5.62341325e+01, 7.86743808e+01, 1.10069417e+02, 1.53992653e+02,\n",
              "       2.15443469e+02, 3.01416253e+02, 4.21696503e+02, 5.89974626e+02,\n",
              "       8.25404185e+02, 1.15478198e+03, 1.61559810e+03, 2.26030303e+03,\n",
              "       3.16227766e+03]),\n",
              "                          &#x27;kernel&#x27;: [&#x27;rbf&#x27;]}],\n",
              "             scoring=make_scorer(f1_score, average=weighted), verbose=3)</pre></div></div></div><div class=\"sk-parallel\"><div class=\"sk-parallel-item\"><div class=\"sk-item\"><div class=\"sk-label-container\"><div class=\"sk-label sk-toggleable\"><input class=\"sk-toggleable__control sk-hidden--visually\" id=\"sk-estimator-id-2\" type=\"checkbox\" ><label for=\"sk-estimator-id-2\" class=\"sk-toggleable__label sk-toggleable__label-arrow\">estimator: SVC</label><div class=\"sk-toggleable__content\"><pre>SVC(class_weight={&#x27;C&#x27;: 3, &#x27;Other&#x27;: 8, &#x27;S&#x27;: 2, &#x27;X&#x27;: 5})</pre></div></div></div><div class=\"sk-serial\"><div class=\"sk-item\"><div class=\"sk-estimator sk-toggleable\"><input class=\"sk-toggleable__control sk-hidden--visually\" id=\"sk-estimator-id-3\" type=\"checkbox\" ><label for=\"sk-estimator-id-3\" class=\"sk-toggleable__label sk-toggleable__label-arrow\">SVC</label><div class=\"sk-toggleable__content\"><pre>SVC(class_weight={&#x27;C&#x27;: 3, &#x27;Other&#x27;: 8, &#x27;S&#x27;: 2, &#x27;X&#x27;: 5})</pre></div></div></div></div></div></div></div></div></div></div>"
            ],
            "text/plain": [
              "GridSearchCV(cv=5,\n",
              "             estimator=SVC(class_weight={'C': 3, 'Other': 8, 'S': 2, 'X': 5}),\n",
              "             param_grid=[{'C': array([1.00000000e+00, 1.39905031e+00, 1.95734178e+00, 2.73841963e+00,\n",
              "       3.83118685e+00, 5.36002317e+00, 7.49894209e+00, 1.04913973e+01,\n",
              "       1.46779927e+01, 2.05352503e+01, 2.87298483e+01, 4.01945033e+01,\n",
              "       5.62341325e+01, 7.86743808e+01, 1.10069417e+02, 1.53992653e+02,\n",
              "       2.15443469...\n",
              "       3.83118685e+00, 5.36002317e+00, 7.49894209e+00, 1.04913973e+01,\n",
              "       1.46779927e+01, 2.05352503e+01, 2.87298483e+01, 4.01945033e+01,\n",
              "       5.62341325e+01, 7.86743808e+01, 1.10069417e+02, 1.53992653e+02,\n",
              "       2.15443469e+02, 3.01416253e+02, 4.21696503e+02, 5.89974626e+02,\n",
              "       8.25404185e+02, 1.15478198e+03, 1.61559810e+03, 2.26030303e+03,\n",
              "       3.16227766e+03]),\n",
              "                          'kernel': ['rbf']}],\n",
              "             scoring=make_scorer(f1_score, average=weighted), verbose=3)"
            ]
          },
          "execution_count": 8,
          "metadata": {},
          "output_type": "execute_result"
        }
      ],
      "source": [
        "from sklearn.metrics import f1_score, make_scorer\n",
        "\n",
        "param_grid = [\n",
        "  {'C': np.logspace(0, 3.5, 25), 'kernel': ['linear']},\n",
        "  {'C': np.logspace(0, 3.5, 25), 'kernel': ['rbf']},\n",
        " ]\n",
        "\n",
        "svc = svm.SVC(class_weight=weight_dict)\n",
        "\n",
        "scaler = preprocessing.StandardScaler().fit(X_train)\n",
        "\n",
        "X_train_scaled = scaler.transform(X_train)\n",
        "\n",
        "wclf = GridSearchCV(svc, param_grid, scoring=make_scorer(f1_score, average=\"weighted\"), verbose=3,\n",
        "                     cv=5)\n",
        "wclf.fit(X_train_scaled, y_train)"
      ]
    },
    {
      "cell_type": "code",
      "execution_count": null,
      "metadata": {
        "id": "au2biiC5VDey",
        "colab": {
          "base_uri": "https://localhost:8080/",
          "height": 227
        },
        "outputId": "c5722e18-c826-40ec-d90a-3d0d966a3d9e"
      },
      "outputs": [
        {
          "output_type": "error",
          "ename": "NameError",
          "evalue": "ignored",
          "traceback": [
            "\u001b[0;31m---------------------------------------------------------------------------\u001b[0m",
            "\u001b[0;31mNameError\u001b[0m                                 Traceback (most recent call last)",
            "\u001b[0;32m<ipython-input-9-536df2c73a5a>\u001b[0m in \u001b[0;36m<cell line: 1>\u001b[0;34m()\u001b[0m\n\u001b[0;32m----> 1\u001b[0;31m \u001b[0mfinal_clf\u001b[0m \u001b[0;34m=\u001b[0m \u001b[0mwclf\u001b[0m\u001b[0;34m.\u001b[0m\u001b[0mbest_estimator_\u001b[0m\u001b[0;34m\u001b[0m\u001b[0;34m\u001b[0m\u001b[0m\n\u001b[0m\u001b[1;32m      2\u001b[0m \u001b[0;34m\u001b[0m\u001b[0m\n\u001b[1;32m      3\u001b[0m \u001b[0mprint\u001b[0m\u001b[0;34m(\u001b[0m\u001b[0;34mf\"Kernel with the best result: {final_clf.kernel}\"\u001b[0m\u001b[0;34m)\u001b[0m\u001b[0;34m\u001b[0m\u001b[0;34m\u001b[0m\u001b[0m\n\u001b[1;32m      4\u001b[0m \u001b[0mprint\u001b[0m\u001b[0;34m(\u001b[0m\u001b[0;34mf\"SVM information: {final_clf}\"\u001b[0m\u001b[0;34m)\u001b[0m\u001b[0;34m\u001b[0m\u001b[0;34m\u001b[0m\u001b[0m\n",
            "\u001b[0;31mNameError\u001b[0m: name 'wclf' is not defined"
          ]
        }
      ],
      "source": [
        "final_clf = wclf.best_estimator_\n",
        "\n",
        "print(f\"Kernel with the best result: {final_clf.kernel}\")\n",
        "print(f\"SVM information: {final_clf}\")"
      ]
    },
    {
      "cell_type": "code",
      "execution_count": null,
      "metadata": {
        "id": "7JX4Xc3CvfHv"
      },
      "outputs": [],
      "source": [
        "X_test_scaled = scaler.transform(X_test)\n",
        "\n",
        "# ... and perform a predicition\n",
        "y_test_pred = final_clf.predict(X_test_scaled)"
      ]
    },
    {
      "cell_type": "code",
      "execution_count": null,
      "metadata": {
        "id": "4Ag4J7Ygvi6A"
      },
      "outputs": [],
      "source": [
        "from sklearn.metrics import confusion_matrix\n",
        "conf_mat = confusion_matrix(y_test, y_test_pred, labels=[\"C\", \"S\", \"X\", \"Other\"])\n",
        "\n",
        "print(conf_mat)"
      ]
    },
    {
      "cell_type": "code",
      "execution_count": null,
      "metadata": {
        "id": "-jsn32vbvlFG"
      },
      "outputs": [],
      "source": [
        "import matplotlib.pyplot as plt\n",
        "from sklearn.metrics import plot_confusion_matrix\n",
        "\n",
        "plot_confusion_matrix(final_clf, X_test_scaled, y_test, values_format='d')\n",
        "plt.show()"
      ]
    },
    {
      "cell_type": "code",
      "execution_count": null,
      "metadata": {
        "id": "KIUMBNwf0RpN"
      },
      "outputs": [],
      "source": [
        "f1_score = round(sklearn.metrics.f1_score(y_test, y_test_pred, average=\"weighted\"), 3)\n",
        "print(f\"F1 Score: {f1_score}\")"
      ]
    }
  ],
  "metadata": {
    "colab": {
      "provenance": []
    },
    "kernelspec": {
      "display_name": "Python 3",
      "name": "python3"
    },
    "language_info": {
      "name": "python"
    }
  },
  "nbformat": 4,
  "nbformat_minor": 0
}